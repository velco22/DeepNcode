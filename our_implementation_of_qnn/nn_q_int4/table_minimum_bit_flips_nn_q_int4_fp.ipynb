{
 "cells": [
  {
   "cell_type": "code",
   "execution_count": 404,
   "metadata": {
    "collapsed": true,
    "ExecuteTime": {
     "start_time": "2023-04-25T19:21:25.211119Z",
     "end_time": "2023-04-25T19:21:25.273421Z"
    }
   },
   "outputs": [],
   "source": [
    "import numpy as np\n",
    "from scipy.spatial.distance import hamming\n",
    "import tensorflow as tf\n",
    "from collections import OrderedDict\n",
    "import time\n",
    "import matplotlib.pyplot as plt\n",
    "import copy\n",
    "import pathlib"
   ]
  },
  {
   "cell_type": "code",
   "execution_count": 405,
   "outputs": [
    {
     "name": "stdout",
     "output_type": "stream",
     "text": [
      "[-7 -7 -7 -5 -7  5 -2 -1 -7  5  2  3  5  5  6  5 -7 -7  2 -1 -4 -1 -1 -1\n",
      "  2  1  2  2  4  5  2 -1 -7 -5 -5 -5 -4 -3  6 -5  0  1  6 -5  6  5  6  6\n",
      " -4  1 -6 -5 -4 -4 -4 -1  1  1  2  1 -4  1  6  7 -7 -7 -2  3 -2 -3 -2 -2\n",
      "  0  3  3  3  4  5 -2  3 -7 -7 -6 -7  4 -7 -2 -1  4 -7  2  3  4  4  4  7\n",
      "  0 -3 -6 -5 -3 -3 -2 -3  0  0  0  3  0 -3  6  7 -6 -7 -6 -6 -4 -3 -6  7\n",
      "  0  1 -6  7  4  7  7  7]\n"
     ]
    }
   ],
   "source": [
    "error_correction = np.load(\"table_error_correction_2bit.npy\")\n",
    "print(error_correction)"
   ],
   "metadata": {
    "collapsed": false,
    "ExecuteTime": {
     "start_time": "2023-04-25T19:21:25.218317Z",
     "end_time": "2023-04-25T19:21:25.335069Z"
    }
   }
  },
  {
   "cell_type": "code",
   "execution_count": 406,
   "outputs": [
    {
     "name": "stdout",
     "output_type": "stream",
     "text": [
      "[  0  81 114  35  52 101  70  23 104  57  26  75  92  13  46 127]\n"
     ]
    }
   ],
   "source": [
    "table_code_words = np.load(\"table_code_words.npy\")\n",
    "print(table_code_words)"
   ],
   "metadata": {
    "collapsed": false,
    "ExecuteTime": {
     "start_time": "2023-04-25T19:21:25.233686Z",
     "end_time": "2023-04-25T19:21:25.347212Z"
    }
   }
  },
  {
   "cell_type": "code",
   "execution_count": 407,
   "outputs": [
    {
     "name": "stdout",
     "output_type": "stream",
     "text": [
      "[list([0, 0, 0, 0, 0, 0, 0]) list([1, 0, 1, 0, 0, 0, 1])\n",
      " list([1, 1, 1, 0, 0, 1, 0]) list([0, 1, 0, 0, 0, 1, 1])\n",
      " list([0, 1, 1, 0, 1, 0, 0]) list([1, 1, 0, 0, 1, 0, 1])\n",
      " list([1, 0, 0, 0, 1, 1, 0]) list([0, 0, 1, 0, 1, 1, 1])\n",
      " list([1, 1, 0, 1, 0, 0, 0]) list([0, 1, 1, 1, 0, 0, 1])\n",
      " list([0, 0, 1, 1, 0, 1, 0]) list([1, 0, 0, 1, 0, 1, 1])\n",
      " list([1, 0, 1, 1, 1, 0, 0]) list([0, 0, 0, 1, 1, 0, 1])\n",
      " list([0, 1, 0, 1, 1, 1, 0]) list([1, 1, 1, 1, 1, 1, 1])]\n"
     ]
    }
   ],
   "source": [
    "table_code_words_binary = np.zeros((16,), dtype=np.ndarray)\n",
    "j = 0\n",
    "for i in table_code_words:\n",
    "    table_code_words_binary[j] = [int(bit) for bit in bin(i)[2:].zfill(7)]\n",
    "    j += 1\n",
    "\n",
    "print(table_code_words_binary)"
   ],
   "metadata": {
    "collapsed": false,
    "ExecuteTime": {
     "start_time": "2023-04-25T19:21:25.248889Z",
     "end_time": "2023-04-25T19:21:25.351211Z"
    }
   }
  },
  {
   "cell_type": "markdown",
   "source": [
    "# Table hamming distance between code words"
   ],
   "metadata": {
    "collapsed": false
   }
  },
  {
   "cell_type": "code",
   "execution_count": 408,
   "outputs": [
    {
     "name": "stdout",
     "output_type": "stream",
     "text": [
      "[[  0 255 255 255 255 255 255 255 255 255 255 255 255 255 255]\n",
      " [255   0 255 255 255 255 255 255 255 255 255 255 255 255 255]\n",
      " [255 255   0 255 255 255 255 255 255 255 255 255 255 255 255]\n",
      " [255 255 255   0 255 255 255 255 255 255 255 255 255 255 255]\n",
      " [255 255 255 255   0 255 255 255 255 255 255 255 255 255 255]\n",
      " [255 255 255 255 255   0 255 255 255 255 255 255 255 255 255]\n",
      " [255 255 255 255 255 255   0 255 255 255 255 255 255 255 255]\n",
      " [255 255 255 255 255 255 255   0 255 255 255 255 255 255 255]\n",
      " [255 255 255 255 255 255 255 255   0 255 255 255 255 255 255]\n",
      " [255 255 255 255 255 255 255 255 255   0 255 255 255 255 255]\n",
      " [255 255 255 255 255 255 255 255 255 255   0 255 255 255 255]\n",
      " [255 255 255 255 255 255 255 255 255 255 255   0 255 255 255]\n",
      " [255 255 255 255 255 255 255 255 255 255 255 255   0 255 255]\n",
      " [255 255 255 255 255 255 255 255 255 255 255 255 255   0 255]\n",
      " [255 255 255 255 255 255 255 255 255 255 255 255 255 255   0]]\n"
     ]
    }
   ],
   "source": [
    "table_hamming_distance = np.full((15,15), 255, dtype=np.uint8)\n",
    "np.fill_diagonal(table_hamming_distance, 0)\n",
    "print(table_hamming_distance)"
   ],
   "metadata": {
    "collapsed": false,
    "ExecuteTime": {
     "start_time": "2023-04-25T19:21:25.266258Z",
     "end_time": "2023-04-25T19:21:25.354312Z"
    }
   }
  },
  {
   "cell_type": "code",
   "execution_count": 409,
   "outputs": [
    {
     "name": "stdout",
     "output_type": "stream",
     "text": [
      "[[0 3 4 4 3 4 3 4 3 4 3 3 4 7 4]\n",
      " [3 0 3 3 4 3 4 3 4 3 4 4 7 4 3]\n",
      " [4 3 0 4 3 4 3 4 3 4 3 7 4 3 4]\n",
      " [4 3 4 0 3 4 3 4 3 4 7 3 4 3 4]\n",
      " [3 4 3 3 0 3 4 3 4 7 4 4 3 4 3]\n",
      " [4 3 4 4 3 0 3 4 7 4 3 3 4 3 4]\n",
      " [3 4 3 3 4 3 0 7 4 3 4 4 3 4 3]\n",
      " [4 3 4 4 3 4 7 0 3 4 3 3 4 3 4]\n",
      " [3 4 3 3 4 7 4 3 0 3 4 4 3 4 3]\n",
      " [4 3 4 4 7 4 3 4 3 0 3 3 4 3 4]\n",
      " [3 4 3 7 4 3 4 3 4 3 0 4 3 4 3]\n",
      " [3 4 7 3 4 3 4 3 4 3 4 0 3 4 3]\n",
      " [4 7 4 4 3 4 3 4 3 4 3 3 0 3 4]\n",
      " [7 4 3 3 4 3 4 3 4 3 4 4 3 0 3]\n",
      " [4 3 4 4 3 4 3 4 3 4 3 3 4 3 0]]\n"
     ]
    }
   ],
   "source": [
    "for code_word_bin, code_word in zip(table_code_words_binary[1:], table_code_words[1:]):\n",
    "    err_cor_word = error_correction[code_word] + 7\n",
    "    for code_word_bin_2, code_word_2 in zip(table_code_words_binary[1:], table_code_words[1:]):\n",
    "        err_cor_word_2 = error_correction[code_word_2] + 7\n",
    "        hd = hamming(code_word_bin, code_word_bin_2) * len(code_word_bin)\n",
    "        table_hamming_distance[err_cor_word][err_cor_word_2] = hd\n",
    "\n",
    "print(table_hamming_distance)"
   ],
   "metadata": {
    "collapsed": false,
    "ExecuteTime": {
     "start_time": "2023-04-25T19:21:25.284398Z",
     "end_time": "2023-04-25T19:21:25.354312Z"
    }
   }
  },
  {
   "cell_type": "markdown",
   "source": [
    "# Table min bit flips"
   ],
   "metadata": {
    "collapsed": false
   }
  },
  {
   "cell_type": "code",
   "execution_count": 410,
   "outputs": [
    {
     "name": "stdout",
     "output_type": "stream",
     "text": [
      "[[  0 255 255 255 255 255 255 255 255 255 255 255 255 255 255]\n",
      " [255   0 255 255 255 255 255 255 255 255 255 255 255 255 255]\n",
      " [255 255   0 255 255 255 255 255 255 255 255 255 255 255 255]\n",
      " [255 255 255   0 255 255 255 255 255 255 255 255 255 255 255]\n",
      " [255 255 255 255   0 255 255 255 255 255 255 255 255 255 255]\n",
      " [255 255 255 255 255   0 255 255 255 255 255 255 255 255 255]\n",
      " [255 255 255 255 255 255   0 255 255 255 255 255 255 255 255]\n",
      " [255 255 255 255 255 255 255   0 255 255 255 255 255 255 255]\n",
      " [255 255 255 255 255 255 255 255   0 255 255 255 255 255 255]\n",
      " [255 255 255 255 255 255 255 255 255   0 255 255 255 255 255]\n",
      " [255 255 255 255 255 255 255 255 255 255   0 255 255 255 255]\n",
      " [255 255 255 255 255 255 255 255 255 255 255   0 255 255 255]\n",
      " [255 255 255 255 255 255 255 255 255 255 255 255   0 255 255]\n",
      " [255 255 255 255 255 255 255 255 255 255 255 255 255   0 255]\n",
      " [255 255 255 255 255 255 255 255 255 255 255 255 255 255   0]]\n"
     ]
    }
   ],
   "source": [
    "# you cant get to -8 so table is 15x15\n",
    "table_min_bit_flips = np.full((15,15), 255, dtype=np.uint8)\n",
    "np.fill_diagonal(table_min_bit_flips, 0)\n",
    "print(table_min_bit_flips)"
   ],
   "metadata": {
    "collapsed": false,
    "ExecuteTime": {
     "start_time": "2023-04-25T19:21:25.296623Z",
     "end_time": "2023-04-25T19:21:25.355297Z"
    }
   }
  },
  {
   "cell_type": "code",
   "execution_count": 411,
   "outputs": [],
   "source": [
    "def bit_flip(bits_arr, word):\n",
    "    for bit in bits_arr:\n",
    "        word[bit] = 1 - word[bit]\n",
    "\n",
    "    return word\n",
    "\n",
    "def bin_to_dec(bin_arr):\n",
    "    dec = 0\n",
    "    for i in range(len(bin_arr)):\n",
    "        dec += bin_arr[i] * 2 ** (len(bin_arr) - i - 1)\n",
    "\n",
    "    return np.int8(dec)"
   ],
   "metadata": {
    "collapsed": false,
    "ExecuteTime": {
     "start_time": "2023-04-25T19:21:25.311515Z",
     "end_time": "2023-04-25T19:21:25.355297Z"
    }
   }
  },
  {
   "cell_type": "markdown",
   "source": [
    "## Table min bit flips 1 bit flip"
   ],
   "metadata": {
    "collapsed": false
   }
  },
  {
   "cell_type": "code",
   "execution_count": 412,
   "outputs": [
    {
     "name": "stdout",
     "output_type": "stream",
     "text": [
      "[[  0 255 255 255 255 255 255 255 255 255 255 255 255 255 255]\n",
      " [255   0 255 255 255 255 255 255 255 255 255 255 255 255 255]\n",
      " [255 255   0 255 255 255 255 255 255 255 255 255 255 255 255]\n",
      " [255 255 255   0 255 255 255 255 255 255 255 255 255 255 255]\n",
      " [255 255 255 255   0 255 255 255 255 255 255 255 255 255 255]\n",
      " [255 255 255 255 255   0 255 255 255 255 255 255 255 255 255]\n",
      " [255 255 255 255 255 255   0 255 255 255 255 255 255 255 255]\n",
      " [255 255 255 255 255 255 255   0 255 255 255 255 255 255 255]\n",
      " [255 255 255 255 255 255 255 255   0 255 255 255 255 255 255]\n",
      " [255 255 255 255 255 255 255 255 255   0 255 255 255 255 255]\n",
      " [255 255 255 255 255 255 255 255 255 255   0 255 255 255 255]\n",
      " [255 255 255 255 255 255 255 255 255 255 255   0 255 255 255]\n",
      " [255 255 255 255 255 255 255 255 255 255 255 255   0 255 255]\n",
      " [255 255 255 255 255 255 255 255 255 255 255 255 255   0 255]\n",
      " [255 255 255 255 255 255 255 255 255 255 255 255 255 255   0]]\n"
     ]
    }
   ],
   "source": [
    "for code_word_bin, code_word in zip(table_code_words_binary[1:], table_code_words[1:]):\n",
    "    err_cor_word = error_correction[code_word] + 7\n",
    "\n",
    "\n",
    "    for j in range (0, 7):\n",
    "\n",
    "        bits = [j]\n",
    "\n",
    "        bit_flips_word_bin = copy.deepcopy(code_word_bin)\n",
    "        bit_flips_word_bin = bit_flip(bits, bit_flips_word_bin)\n",
    "        bit_flips_word = bin_to_dec(bit_flips_word_bin)\n",
    "        err_cor_bit_flips_word = error_correction[bit_flips_word] + 7\n",
    "\n",
    "        hd = hamming(bit_flips_word_bin, code_word_bin) * len(code_word_bin)\n",
    "\n",
    "        # print(\"code_word: \", code_word_bin)\n",
    "        # print(\"err_cor_word: \", err_cor_word)\n",
    "        # print(\"bit_flips_word: \", bit_flips_word_bin)\n",
    "        # print(\"err_cor_bit_flips_word: \", err_cor_bit_flips_word)\n",
    "        # print(\"hd: \", hd)\n",
    "\n",
    "        if table_min_bit_flips[err_cor_word][err_cor_bit_flips_word] > hd:\n",
    "            table_min_bit_flips[err_cor_word][err_cor_bit_flips_word] = hd\n",
    "\n",
    "        # print('-----------------------')\n",
    "\n",
    "\n",
    "\n",
    "\n",
    "print(table_min_bit_flips)"
   ],
   "metadata": {
    "collapsed": false,
    "ExecuteTime": {
     "start_time": "2023-04-25T19:21:25.329791Z",
     "end_time": "2023-04-25T19:21:25.355297Z"
    }
   }
  },
  {
   "cell_type": "markdown",
   "source": [
    "## Table min bit flips 2 bit flips"
   ],
   "metadata": {
    "collapsed": false
   }
  },
  {
   "cell_type": "code",
   "execution_count": 413,
   "outputs": [
    {
     "name": "stdout",
     "output_type": "stream",
     "text": [
      "code_word:  35\n",
      "bit_flips_word:  1\n",
      "\n",
      "err_cor_word:  -5\n",
      "err_cor_bit_flips_word:  -7\n",
      "\n",
      "err_cor_word_old:  -5\n",
      "err_cor_bit_flips_word_old:  -8\n",
      "-----------------------\n",
      "code_word:  52\n",
      "bit_flips_word:  4\n",
      "\n",
      "err_cor_word:  -4\n",
      "err_cor_bit_flips_word:  -7\n",
      "\n",
      "err_cor_word_old:  -4\n",
      "err_cor_bit_flips_word_old:  -8\n",
      "-----------------------\n",
      "code_word:  70\n",
      "bit_flips_word:  2\n",
      "\n",
      "err_cor_word:  -2\n",
      "err_cor_bit_flips_word:  -7\n",
      "\n",
      "err_cor_word_old:  -2\n",
      "err_cor_bit_flips_word_old:  -8\n",
      "-----------------------\n",
      "code_word:  104\n",
      "bit_flips_word:  8\n",
      "\n",
      "err_cor_word:  0\n",
      "err_cor_bit_flips_word:  -7\n",
      "\n",
      "err_cor_word_old:  0\n",
      "err_cor_bit_flips_word_old:  -8\n",
      "-----------------------\n",
      "code_word:  26\n",
      "bit_flips_word:  2\n",
      "\n",
      "err_cor_word:  2\n",
      "err_cor_bit_flips_word:  -7\n",
      "\n",
      "err_cor_word_old:  2\n",
      "err_cor_bit_flips_word_old:  -8\n",
      "-----------------------\n",
      "code_word:  13\n",
      "bit_flips_word:  1\n",
      "\n",
      "err_cor_word:  5\n",
      "err_cor_bit_flips_word:  -7\n",
      "\n",
      "err_cor_word_old:  5\n",
      "err_cor_bit_flips_word_old:  -8\n",
      "-----------------------\n",
      "[[  0   2 255 255   2 255   2 255   2 255   2   2 255 255 255]\n",
      " [  2   0   2   2 255   2 255   2 255   2 255 255 255 255   2]\n",
      " [  2   2   0 255   2 255   2 255   2 255   2 255 255   2 255]\n",
      " [  2   2 255   0   2 255   2 255   2 255 255   2 255   2 255]\n",
      " [  2 255   2   2   0   2 255   2 255 255 255 255   2 255   2]\n",
      " [  2   2 255 255   2   0   2 255 255 255   2   2 255   2 255]\n",
      " [  2 255   2   2 255   2   0 255 255   2 255 255   2 255   2]\n",
      " [  2   2 255 255   2 255 255   0   2 255   2   2 255   2 255]\n",
      " [  2 255   2   2 255 255 255   2   0   2 255 255   2 255   2]\n",
      " [  2   2 255 255 255 255   2 255   2   0   2   2 255   2 255]\n",
      " [  2 255   2 255 255   2 255   2 255   2   0 255   2 255   2]\n",
      " [  2 255 255   2 255   2 255   2 255   2 255   0   2 255   2]\n",
      " [  2 255 255 255   2 255   2 255   2 255   2   2   0   2 255]\n",
      " [255 255   2   2 255   2 255   2 255   2 255 255   2   0   2]\n",
      " [255   2 255 255   2 255   2 255   2 255   2   2 255   2   0]]\n"
     ]
    }
   ],
   "source": [
    "error_correction_old = np.load(\"table_error_correction.npy\")\n",
    "\n",
    "for code_word_bin, code_word in zip(table_code_words_binary[1:], table_code_words[1:]):\n",
    "    err_cor_word = error_correction[code_word] + 7\n",
    "\n",
    "    for i in range (0, 7 - 1):\n",
    "        for j in range (i+1, 7):\n",
    "\n",
    "            bits = [i, j]\n",
    "\n",
    "            bit_flips_word_bin = copy.deepcopy(code_word_bin)\n",
    "            bit_flips_word_bin = bit_flip(bits, bit_flips_word_bin)\n",
    "            bit_flips_word = bin_to_dec(bit_flips_word_bin)\n",
    "            err_cor_bit_flips_word = error_correction[bit_flips_word] + 7\n",
    "\n",
    "            hd = hamming(bit_flips_word_bin, code_word_bin) * len(code_word_bin)\n",
    "\n",
    "            # print(\"code_word: \", code_word_bin)\n",
    "            # print(\"err_cor_word: \", err_cor_word)\n",
    "            # print(\"bit_flips_word: \", bit_flips_word_bin)\n",
    "            # print(\"err_cor_bit_flips_word: \", err_cor_bit_flips_word)\n",
    "            # print(\"hd: \", hd)\n",
    "\n",
    "\n",
    "            if table_min_bit_flips[err_cor_word][err_cor_bit_flips_word] > hd:\n",
    "                table_min_bit_flips[err_cor_word][err_cor_bit_flips_word] = hd\n",
    "                if (err_cor_bit_flips_word == 0 or err_cor_word == 0) and error_correction_old[bit_flips_word] == -8:\n",
    "                    print(\"code_word: \", code_word)\n",
    "                    print(\"bit_flips_word: \", bit_flips_word)\n",
    "\n",
    "                    print(\"\\nerr_cor_word: \", error_correction[code_word])\n",
    "                    print(\"err_cor_bit_flips_word: \", error_correction[bit_flips_word])\n",
    "\n",
    "                    print(\"\\nerr_cor_word_old: \", error_correction_old[code_word])\n",
    "                    print(\"err_cor_bit_flips_word_old: \", error_correction_old[bit_flips_word])\n",
    "                    # print(\"hd: \", hd)\n",
    "                    # print(\"code_word     : \", code_word_bin)\n",
    "                    # print(\"bit_flips_word: \", bit_flips_word_bin)\n",
    "                    # # print(table_min_bit_flips)\n",
    "                    print('-----------------------')\n",
    "\n",
    "            # print(table_min_bit_flips)\n",
    "\n",
    "print(table_min_bit_flips)\n"
   ],
   "metadata": {
    "collapsed": false,
    "ExecuteTime": {
     "start_time": "2023-04-25T19:21:25.344212Z",
     "end_time": "2023-04-25T19:21:25.366610Z"
    }
   }
  },
  {
   "cell_type": "markdown",
   "source": [
    "## Table min bit flips 3 bit flips"
   ],
   "metadata": {
    "collapsed": false
   }
  },
  {
   "cell_type": "code",
   "execution_count": 414,
   "outputs": [
    {
     "name": "stdout",
     "output_type": "stream",
     "text": [
      "[[  0   2   3   3   2   3   2   3   2   3   2   2   3 255   3]\n",
      " [  2   0   2   2   3   2   3   2   3   2   3   3 255   3   2]\n",
      " [  2   2   0   3   2   3   2   3   2   3   2 255   3   2   3]\n",
      " [  2   2   3   0   2   3   2   3   2   3 255   2   3   2   3]\n",
      " [  2   3   2   2   0   2   3   2   3 255   3   3   2   3   2]\n",
      " [  2   2   3   3   2   0   2   3 255   3   2   2   3   2   3]\n",
      " [  2   3   2   2   3   2   0 255   3   2   3   3   2   3   2]\n",
      " [  2   2   3   3   2   3 255   0   2   3   2   2   3   2   3]\n",
      " [  2   3   2   2   3 255   3   2   0   2   3   3   2   3   2]\n",
      " [  2   2   3   3 255   3   2   3   2   0   2   2   3   2   3]\n",
      " [  2   3   2 255   3   2   3   2   3   2   0   3   2   3   2]\n",
      " [  2   3 255   2   3   2   3   2   3   2   3   0   2   3   2]\n",
      " [  2 255   3   3   2   3   2   3   2   3   2   2   0   2   3]\n",
      " [  3   3   2   2   3   2   3   2   3   2   3   3   2   0   2]\n",
      " [  3   2   3   3   2   3   2   3   2   3   2   2   3   2   0]]\n"
     ]
    }
   ],
   "source": [
    "for code_word_bin, code_word in zip(table_code_words_binary[1:], table_code_words[1:]):\n",
    "    err_cor_word = error_correction[code_word] + 7\n",
    "\n",
    "    for k in range (0, 7 - 2):\n",
    "        for i in range (k+1, 7 - 1):\n",
    "            for j in range (i+1, 7):\n",
    "\n",
    "                bits = [k, i, j]\n",
    "\n",
    "                bit_flips_word_bin = copy.deepcopy(code_word_bin)\n",
    "                bit_flips_word_bin = bit_flip(bits, bit_flips_word_bin)\n",
    "                bit_flips_word = bin_to_dec(bit_flips_word_bin)\n",
    "                err_cor_bit_flips_word = error_correction[bit_flips_word] + 7\n",
    "\n",
    "                hd = hamming(bit_flips_word_bin, code_word_bin) * len(code_word_bin)\n",
    "\n",
    "                # print(\"code_word: \", code_word_bin)\n",
    "                # print(\"err_cor_word: \", err_cor_word)\n",
    "                # print(\"bit_flips_word: \", bit_flips_word_bin)\n",
    "                # print(\"err_cor_bit_flips_word: \", err_cor_bit_flips_word)\n",
    "                # print(\"hd: \", hd)\n",
    "\n",
    "                if table_min_bit_flips[err_cor_word][err_cor_bit_flips_word] > hd:\n",
    "                    table_min_bit_flips[err_cor_word][err_cor_bit_flips_word] = hd\n",
    "\n",
    "                # print('-----------------------')\n",
    "\n",
    "\n",
    "\n",
    "\n",
    "print(table_min_bit_flips)"
   ],
   "metadata": {
    "collapsed": false,
    "ExecuteTime": {
     "start_time": "2023-04-25T19:21:25.359294Z",
     "end_time": "2023-04-25T19:21:25.461550Z"
    }
   }
  },
  {
   "cell_type": "markdown",
   "source": [
    "# Table min bit flips 4 bit flips"
   ],
   "metadata": {
    "collapsed": false
   }
  },
  {
   "cell_type": "code",
   "execution_count": 415,
   "outputs": [
    {
     "name": "stdout",
     "output_type": "stream",
     "text": [
      "[[  0   2   3   3   2   3   2   3   2   3   2   2   3 255   3]\n",
      " [  2   0   2   2   3   2   3   2   3   2   3   3 255   3   2]\n",
      " [  2   2   0   3   2   3   2   3   2   3   2 255   3   2   3]\n",
      " [  2   2   3   0   2   3   2   3   2   3 255   2   3   2   3]\n",
      " [  2   3   2   2   0   2   3   2   3 255   3   3   2   3   2]\n",
      " [  2   2   3   3   2   0   2   3 255   3   2   2   3   2   3]\n",
      " [  2   3   2   2   3   2   0 255   3   2   3   3   2   3   2]\n",
      " [  2   2   3   3   2   3 255   0   2   3   2   2   3   2   3]\n",
      " [  2   3   2   2   3 255   3   2   0   2   3   3   2   3   2]\n",
      " [  2   2   3   3 255   3   2   3   2   0   2   2   3   2   3]\n",
      " [  2   3   2 255   3   2   3   2   3   2   0   3   2   3   2]\n",
      " [  2   3 255   2   3   2   3   2   3   2   3   0   2   3   2]\n",
      " [  2 255   3   3   2   3   2   3   2   3   2   2   0   2   3]\n",
      " [  3   3   2   2   3   2   3   2   3   2   3   3   2   0   2]\n",
      " [  3   2   3   3   2   3   2   3   2   3   2   2   3   2   0]]\n"
     ]
    }
   ],
   "source": [
    "for code_word_bin, code_word in zip(table_code_words_binary[1:], table_code_words[1:]):\n",
    "    err_cor_word = error_correction[code_word] + 7\n",
    "\n",
    "    for z in range (0, 7 - 3):\n",
    "        for k in range (z+1, 7 - 2):\n",
    "            for i in range (k+1, 7 - 1):\n",
    "                for j in range (i+1, 7):\n",
    "\n",
    "                    bits = [z, k, i, j]\n",
    "\n",
    "                    bit_flips_word_bin = copy.deepcopy(code_word_bin)\n",
    "                    bit_flips_word_bin = bit_flip(bits, bit_flips_word_bin)\n",
    "                    bit_flips_word = bin_to_dec(bit_flips_word_bin)\n",
    "                    err_cor_bit_flips_word = error_correction[bit_flips_word] + 7\n",
    "\n",
    "                    hd = hamming(bit_flips_word_bin, code_word_bin) * len(code_word_bin)\n",
    "\n",
    "                    # print(\"code_word: \", code_word_bin)\n",
    "                    # print(\"err_cor_word: \", err_cor_word)\n",
    "                    # print(\"bit_flips_word: \", bit_flips_word_bin)\n",
    "                    # print(\"err_cor_bit_flips_word: \", err_cor_bit_flips_word)\n",
    "                    # print(\"hd: \", hd)\n",
    "\n",
    "                    if table_min_bit_flips[err_cor_word][err_cor_bit_flips_word] > hd:\n",
    "                        table_min_bit_flips[err_cor_word][err_cor_bit_flips_word] = hd\n",
    "\n",
    "                    # print('-----------------------')\n",
    "\n",
    "\n",
    "\n",
    "\n",
    "print(table_min_bit_flips)"
   ],
   "metadata": {
    "collapsed": false,
    "ExecuteTime": {
     "start_time": "2023-04-25T19:21:25.373668Z",
     "end_time": "2023-04-25T19:21:25.472703Z"
    }
   }
  },
  {
   "cell_type": "markdown",
   "source": [
    "# Table min bit flips 5 bit flips"
   ],
   "metadata": {
    "collapsed": false
   }
  },
  {
   "cell_type": "code",
   "execution_count": 416,
   "outputs": [
    {
     "name": "stdout",
     "output_type": "stream",
     "text": [
      "[[  0   2   3   3   2   3   2   3   2   3   2   2   3 255   3]\n",
      " [  2   0   2   2   3   2   3   2   3   2   3   3 255   3   2]\n",
      " [  2   2   0   3   2   3   2   3   2   3   2 255   3   2   3]\n",
      " [  2   2   3   0   2   3   2   3   2   3 255   2   3   2   3]\n",
      " [  2   3   2   2   0   2   3   2   3 255   3   3   2   3   2]\n",
      " [  2   2   3   3   2   0   2   3 255   3   2   2   3   2   3]\n",
      " [  2   3   2   2   3   2   0 255   3   2   3   3   2   3   2]\n",
      " [  2   2   3   3   2   3 255   0   2   3   2   2   3   2   3]\n",
      " [  2   3   2   2   3 255   3   2   0   2   3   3   2   3   2]\n",
      " [  2   2   3   3 255   3   2   3   2   0   2   2   3   2   3]\n",
      " [  2   3   2 255   3   2   3   2   3   2   0   3   2   3   2]\n",
      " [  2   3 255   2   3   2   3   2   3   2   3   0   2   3   2]\n",
      " [  2 255   3   3   2   3   2   3   2   3   2   2   0   2   3]\n",
      " [  3   3   2   2   3   2   3   2   3   2   3   3   2   0   2]\n",
      " [  3   2   3   3   2   3   2   3   2   3   2   2   3   2   0]]\n"
     ]
    }
   ],
   "source": [
    "for code_word_bin, code_word in zip(table_code_words_binary[1:], table_code_words[1:]):\n",
    "    err_cor_word = error_correction[code_word] + 7\n",
    "\n",
    "    for y in range (0, 7 - 4):\n",
    "        for z in range (y+1, 7 - 3):\n",
    "            for k in range (z+1, 7 - 2):\n",
    "                for i in range (k+1, 7 - 1):\n",
    "                    for j in range (i+1, 7):\n",
    "\n",
    "                        bits = [y, z, k, i, j]\n",
    "\n",
    "                        bit_flips_word_bin = copy.deepcopy(code_word_bin)\n",
    "                        bit_flips_word_bin = bit_flip(bits, bit_flips_word_bin)\n",
    "                        bit_flips_word = bin_to_dec(bit_flips_word_bin)\n",
    "                        err_cor_bit_flips_word = error_correction[bit_flips_word] + 7\n",
    "\n",
    "                        hd = hamming(bit_flips_word_bin, code_word_bin) * len(code_word_bin)\n",
    "\n",
    "                        # print(\"code_word: \", code_word_bin)\n",
    "                        # print(\"err_cor_word: \", err_cor_word)\n",
    "                        # print(\"bit_flips_word: \", bit_flips_word_bin)\n",
    "                        # print(\"err_cor_bit_flips_word: \", err_cor_bit_flips_word)\n",
    "                        # print(\"hd: \", hd)\n",
    "\n",
    "                        if table_min_bit_flips[err_cor_word][err_cor_bit_flips_word] > hd:\n",
    "                            table_min_bit_flips[err_cor_word][err_cor_bit_flips_word] = hd\n",
    "\n",
    "                        # print('-----------------------')\n",
    "\n",
    "\n",
    "\n",
    "\n",
    "print(table_min_bit_flips)"
   ],
   "metadata": {
    "collapsed": false,
    "ExecuteTime": {
     "start_time": "2023-04-25T19:21:25.388896Z",
     "end_time": "2023-04-25T19:21:25.472703Z"
    }
   }
  },
  {
   "cell_type": "markdown",
   "source": [
    "# Table min bit flips 6 bit flips"
   ],
   "metadata": {
    "collapsed": false
   }
  },
  {
   "cell_type": "code",
   "execution_count": 417,
   "outputs": [
    {
     "name": "stdout",
     "output_type": "stream",
     "text": [
      "[[0 2 3 3 2 3 2 3 2 3 2 2 3 6 3]\n",
      " [2 0 2 2 3 2 3 2 3 2 3 3 6 3 2]\n",
      " [2 2 0 3 2 3 2 3 2 3 2 6 3 2 3]\n",
      " [2 2 3 0 2 3 2 3 2 3 6 2 3 2 3]\n",
      " [2 3 2 2 0 2 3 2 3 6 3 3 2 3 2]\n",
      " [2 2 3 3 2 0 2 3 6 3 2 2 3 2 3]\n",
      " [2 3 2 2 3 2 0 6 3 2 3 3 2 3 2]\n",
      " [2 2 3 3 2 3 6 0 2 3 2 2 3 2 3]\n",
      " [2 3 2 2 3 6 3 2 0 2 3 3 2 3 2]\n",
      " [2 2 3 3 6 3 2 3 2 0 2 2 3 2 3]\n",
      " [2 3 2 6 3 2 3 2 3 2 0 3 2 3 2]\n",
      " [2 3 6 2 3 2 3 2 3 2 3 0 2 3 2]\n",
      " [2 6 3 3 2 3 2 3 2 3 2 2 0 2 3]\n",
      " [3 3 2 2 3 2 3 2 3 2 3 3 2 0 2]\n",
      " [3 2 3 3 2 3 2 3 2 3 2 2 3 2 0]]\n"
     ]
    }
   ],
   "source": [
    "for code_word_bin, code_word in zip(table_code_words_binary[1:], table_code_words[1:]):\n",
    "    err_cor_word = error_correction[code_word] + 7\n",
    "\n",
    "    for x in range (0, 7 - 5):\n",
    "        for y in range (x+1, 7 - 4):\n",
    "            for z in range (y+1, 7 - 3):\n",
    "                for k in range (z+1, 7 - 2):\n",
    "                    for i in range (k+1, 7 - 1):\n",
    "                        for j in range (i+1, 7):\n",
    "\n",
    "                            bits = [x, y, z, k, i, j]\n",
    "\n",
    "                            bit_flips_word_bin = copy.deepcopy(code_word_bin)\n",
    "                            bit_flips_word_bin = bit_flip(bits, bit_flips_word_bin)\n",
    "                            bit_flips_word = bin_to_dec(bit_flips_word_bin)\n",
    "                            err_cor_bit_flips_word = error_correction[bit_flips_word] + 7\n",
    "\n",
    "                            hd = hamming(bit_flips_word_bin, code_word_bin) * len(code_word_bin)\n",
    "\n",
    "                            # print(\"code_word: \", code_word_bin)\n",
    "                            # print(\"err_cor_word: \", err_cor_word)\n",
    "                            # print(\"bit_flips_word: \", bit_flips_word_bin)\n",
    "                            # print(\"err_cor_bit_flips_word: \", err_cor_bit_flips_word)\n",
    "                            # print(\"hd: \", hd)\n",
    "\n",
    "                            if table_min_bit_flips[err_cor_word][err_cor_bit_flips_word] > hd:\n",
    "                                table_min_bit_flips[err_cor_word][err_cor_bit_flips_word] = hd\n",
    "\n",
    "                            # print('-----------------------')\n",
    "\n",
    "\n",
    "\n",
    "\n",
    "print(table_min_bit_flips)"
   ],
   "metadata": {
    "collapsed": false,
    "ExecuteTime": {
     "start_time": "2023-04-25T19:21:25.402536Z",
     "end_time": "2023-04-25T19:21:25.472703Z"
    }
   }
  },
  {
   "cell_type": "markdown",
   "source": [
    "# Table min bit flips 7 bit flips"
   ],
   "metadata": {
    "collapsed": false
   }
  },
  {
   "cell_type": "code",
   "execution_count": 418,
   "outputs": [
    {
     "name": "stdout",
     "output_type": "stream",
     "text": [
      "[[0 2 3 3 2 3 2 3 2 3 2 2 3 6 3]\n",
      " [2 0 2 2 3 2 3 2 3 2 3 3 6 3 2]\n",
      " [2 2 0 3 2 3 2 3 2 3 2 6 3 2 3]\n",
      " [2 2 3 0 2 3 2 3 2 3 6 2 3 2 3]\n",
      " [2 3 2 2 0 2 3 2 3 6 3 3 2 3 2]\n",
      " [2 2 3 3 2 0 2 3 6 3 2 2 3 2 3]\n",
      " [2 3 2 2 3 2 0 6 3 2 3 3 2 3 2]\n",
      " [2 2 3 3 2 3 6 0 2 3 2 2 3 2 3]\n",
      " [2 3 2 2 3 6 3 2 0 2 3 3 2 3 2]\n",
      " [2 2 3 3 6 3 2 3 2 0 2 2 3 2 3]\n",
      " [2 3 2 6 3 2 3 2 3 2 0 3 2 3 2]\n",
      " [2 3 6 2 3 2 3 2 3 2 3 0 2 3 2]\n",
      " [2 6 3 3 2 3 2 3 2 3 2 2 0 2 3]\n",
      " [3 3 2 2 3 2 3 2 3 2 3 3 2 0 2]\n",
      " [3 2 3 3 2 3 2 3 2 3 2 2 3 2 0]]\n"
     ]
    }
   ],
   "source": [
    "for code_word_bin, code_word in zip(table_code_words_binary[1:], table_code_words[1:]):\n",
    "    err_cor_word = error_correction[code_word] + 7\n",
    "\n",
    "    for w in range (0, 7 - 6):\n",
    "        for x in range (w+1, 7 - 5):\n",
    "            for y in range (x+1, 7 - 4):\n",
    "                for z in range (y+1, 7 - 3):\n",
    "                    for k in range (z+1, 7 - 2):\n",
    "                        for i in range (k+1, 7 - 1):\n",
    "                            for j in range (i+1, 7):\n",
    "\n",
    "                                bits = [w, x, y, z, k, i, j]\n",
    "\n",
    "                                bit_flips_word_bin = copy.deepcopy(code_word_bin)\n",
    "                                bit_flips_word_bin = bit_flip(bits, bit_flips_word_bin)\n",
    "                                bit_flips_word = bin_to_dec(bit_flips_word_bin)\n",
    "                                err_cor_bit_flips_word = error_correction[bit_flips_word] + 7\n",
    "\n",
    "                                hd = hamming(bit_flips_word_bin, code_word_bin) * len(code_word_bin)\n",
    "\n",
    "                                # print(\"code_word: \", code_word_bin)\n",
    "                                # print(\"err_cor_word: \", err_cor_word)\n",
    "                                # print(\"bit_flips_word: \", bit_flips_word_bin)\n",
    "                                # print(\"err_cor_bit_flips_word: \", err_cor_bit_flips_word)\n",
    "                                # print(\"hd: \", hd)\n",
    "\n",
    "                                if table_min_bit_flips[err_cor_word][err_cor_bit_flips_word] > hd:\n",
    "                                    table_min_bit_flips[err_cor_word][err_cor_bit_flips_word] = hd\n",
    "\n",
    "                                # print('-----------------------')\n",
    "\n",
    "\n",
    "\n",
    "\n",
    "print(table_min_bit_flips)"
   ],
   "metadata": {
    "collapsed": false,
    "ExecuteTime": {
     "start_time": "2023-04-25T19:21:25.420611Z",
     "end_time": "2023-04-25T19:21:25.473725Z"
    }
   }
  },
  {
   "cell_type": "code",
   "execution_count": 419,
   "outputs": [
    {
     "name": "stdout",
     "output_type": "stream",
     "text": [
      "[[0 3 4 4 3 4 3 4 3 4 3 3 4 7 4]\n",
      " [3 0 3 3 4 3 4 3 4 3 4 4 7 4 3]\n",
      " [4 3 0 4 3 4 3 4 3 4 3 7 4 3 4]\n",
      " [4 3 4 0 3 4 3 4 3 4 7 3 4 3 4]\n",
      " [3 4 3 3 0 3 4 3 4 7 4 4 3 4 3]\n",
      " [4 3 4 4 3 0 3 4 7 4 3 3 4 3 4]\n",
      " [3 4 3 3 4 3 0 7 4 3 4 4 3 4 3]\n",
      " [4 3 4 4 3 4 7 0 3 4 3 3 4 3 4]\n",
      " [3 4 3 3 4 7 4 3 0 3 4 4 3 4 3]\n",
      " [4 3 4 4 7 4 3 4 3 0 3 3 4 3 4]\n",
      " [3 4 3 7 4 3 4 3 4 3 0 4 3 4 3]\n",
      " [3 4 7 3 4 3 4 3 4 3 4 0 3 4 3]\n",
      " [4 7 4 4 3 4 3 4 3 4 3 3 0 3 4]\n",
      " [7 4 3 3 4 3 4 3 4 3 4 4 3 0 3]\n",
      " [4 3 4 4 3 4 3 4 3 4 3 3 4 3 0]]\n"
     ]
    }
   ],
   "source": [
    "print(table_hamming_distance)"
   ],
   "metadata": {
    "collapsed": false,
    "ExecuteTime": {
     "start_time": "2023-04-25T19:21:25.432766Z",
     "end_time": "2023-04-25T19:21:25.474737Z"
    }
   }
  },
  {
   "cell_type": "markdown",
   "source": [
    "# IT doesn't add up because of the -8 we are pushing it to -7 hence the difference in first column"
   ],
   "metadata": {
    "collapsed": false
   }
  },
  {
   "cell_type": "code",
   "execution_count": 420,
   "outputs": [
    {
     "name": "stdout",
     "output_type": "stream",
     "text": [
      "[[0 1 1 1 1 1 1 1 1 1 1 1 1 1 1]\n",
      " [1 0 1 1 1 1 1 1 1 1 1 1 1 1 1]\n",
      " [2 1 0 1 1 1 1 1 1 1 1 1 1 1 1]\n",
      " [2 1 1 0 1 1 1 1 1 1 1 1 1 1 1]\n",
      " [1 1 1 1 0 1 1 1 1 1 1 1 1 1 1]\n",
      " [2 1 1 1 1 0 1 1 1 1 1 1 1 1 1]\n",
      " [1 1 1 1 1 1 0 1 1 1 1 1 1 1 1]\n",
      " [2 1 1 1 1 1 1 0 1 1 1 1 1 1 1]\n",
      " [1 1 1 1 1 1 1 1 0 1 1 1 1 1 1]\n",
      " [2 1 1 1 1 1 1 1 1 0 1 1 1 1 1]\n",
      " [1 1 1 1 1 1 1 1 1 1 0 1 1 1 1]\n",
      " [1 1 1 1 1 1 1 1 1 1 1 0 1 1 1]\n",
      " [2 1 1 1 1 1 1 1 1 1 1 1 0 1 1]\n",
      " [4 1 1 1 1 1 1 1 1 1 1 1 1 0 1]\n",
      " [1 1 1 1 1 1 1 1 1 1 1 1 1 1 0]]\n"
     ]
    }
   ],
   "source": [
    "print(table_hamming_distance - table_min_bit_flips)"
   ],
   "metadata": {
    "collapsed": false,
    "ExecuteTime": {
     "start_time": "2023-04-25T19:21:25.447849Z",
     "end_time": "2023-04-25T19:21:25.538818Z"
    }
   }
  },
  {
   "cell_type": "markdown",
   "source": [
    "# Save the table"
   ],
   "metadata": {
    "collapsed": false
   }
  },
  {
   "cell_type": "code",
   "execution_count": 421,
   "outputs": [],
   "source": [
    "# np.save('table_min_bit_flips.npy', table_min_bit_flips)"
   ],
   "metadata": {
    "collapsed": false,
    "ExecuteTime": {
     "start_time": "2023-04-25T19:21:25.464505Z",
     "end_time": "2023-04-25T19:21:25.570031Z"
    }
   }
  }
 ],
 "metadata": {
  "kernelspec": {
   "display_name": "Python 3",
   "language": "python",
   "name": "python3"
  },
  "language_info": {
   "codemirror_mode": {
    "name": "ipython",
    "version": 2
   },
   "file_extension": ".py",
   "mimetype": "text/x-python",
   "name": "python",
   "nbconvert_exporter": "python",
   "pygments_lexer": "ipython2",
   "version": "2.7.6"
  }
 },
 "nbformat": 4,
 "nbformat_minor": 0
}
