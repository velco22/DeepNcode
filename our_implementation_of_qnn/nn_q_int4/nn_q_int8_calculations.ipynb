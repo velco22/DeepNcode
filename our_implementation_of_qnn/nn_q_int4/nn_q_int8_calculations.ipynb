{
 "cells": [
  {
   "cell_type": "markdown",
   "source": [
    "# Computation of the quantization process"
   ],
   "metadata": {
    "collapsed": false
   }
  },
  {
   "cell_type": "code",
   "execution_count": 2,
   "outputs": [],
   "source": [
    "import tensorflow as tf\n",
    "import numpy as np\n",
    "import pathlib\n",
    "import netron"
   ],
   "metadata": {
    "collapsed": false,
    "ExecuteTime": {
     "start_time": "2023-04-07T14:59:26.570844Z",
     "end_time": "2023-04-07T14:59:30.580022Z"
    }
   }
  },
  {
   "cell_type": "markdown",
   "source": [
    "# Crate nn model"
   ],
   "metadata": {
    "collapsed": false
   }
  },
  {
   "cell_type": "code",
   "execution_count": 3,
   "outputs": [
    {
     "name": "stdout",
     "output_type": "stream",
     "text": [
      "Model: \"sequential\"\n",
      "_________________________________________________________________\n",
      " Layer (type)                Output Shape              Param #   \n",
      "=================================================================\n",
      " dense (Dense)               (None, 3)                 12        \n",
      "                                                                 \n",
      " dense_1 (Dense)             (None, 2)                 8         \n",
      "                                                                 \n",
      "=================================================================\n",
      "Total params: 20\n",
      "Trainable params: 20\n",
      "Non-trainable params: 0\n",
      "_________________________________________________________________\n",
      "None\n",
      "Epoch 1/5\n",
      "1/1 [==============================] - 0s 285ms/step - loss: 1.2064 - accuracy: 0.2500 - val_loss: 0.5154 - val_accuracy: 1.0000\n",
      "Epoch 2/5\n",
      "1/1 [==============================] - 0s 16ms/step - loss: 1.2025 - accuracy: 0.2500 - val_loss: 0.5155 - val_accuracy: 1.0000\n",
      "Epoch 3/5\n",
      "1/1 [==============================] - 0s 16ms/step - loss: 1.1985 - accuracy: 0.2500 - val_loss: 0.5156 - val_accuracy: 1.0000\n",
      "Epoch 4/5\n",
      "1/1 [==============================] - 0s 31ms/step - loss: 1.1946 - accuracy: 0.2500 - val_loss: 0.5158 - val_accuracy: 1.0000\n",
      "Epoch 5/5\n",
      "1/1 [==============================] - 0s 16ms/step - loss: 1.1907 - accuracy: 0.2500 - val_loss: 0.5159 - val_accuracy: 1.0000\n"
     ]
    },
    {
     "data": {
      "text/plain": "<keras.callbacks.History at 0x1fe27695708>"
     },
     "execution_count": 3,
     "metadata": {},
     "output_type": "execute_result"
    }
   ],
   "source": [
    "train_data = np.array(\n",
    "    [[ 0.52986234, -0.2172981,  -1.436018  ],\n",
    "    [-0.70177984,  1.6174504,   0.03002556 ],\n",
    "    [-0.8451145,  -0.16036184,  0.6119909 ],\n",
    "    [ 0.95792836,  0.5761335,  -1.4148498 ]], dtype=np.float32)\n",
    "train_labels = np.array([0, 1, 0, 1], dtype=np.float32)\n",
    "\n",
    "test_data = np.array([[-0.60904104,  0.73394835,  0.8958842 ]], dtype=np.float32)\n",
    "test_labels = np.array([1], dtype=np.float32)\n",
    "\n",
    "eva_data = np.array(\n",
    "    [[ 0.52986234, -0.2172981,  -1.436018  ],\n",
    "    [-0.70177984,  1.6174504,   0.03002556 ],\n",
    "    [-0.8451145,  -0.16036184,  0.6119909 ],\n",
    "    [ 0.95792836,  0.5761335,  -1.4148498 ],\n",
    "     [-0.60904104,  0.73394835,  0.8958842 ]], dtype=np.float32)\n",
    "\n",
    "\n",
    "# Define a simple sequential model\n",
    "def create_model():\n",
    "  model = tf.keras.Sequential([\n",
    "    tf.keras.layers.Dense(3, activation='relu', input_shape=(3,)),\n",
    "  tf.keras.layers.Dense(2)\n",
    "  ])\n",
    "\n",
    "  model.compile(optimizer='adam',\n",
    "                loss=tf.keras.losses.SparseCategoricalCrossentropy(from_logits=True),\n",
    "                metrics=['accuracy'])\n",
    "\n",
    "  return model\n",
    "\n",
    "# Create a basic model instance\n",
    "model = create_model()\n",
    "\n",
    "# Display the model's architecture\n",
    "print(model.summary())\n",
    "\n",
    "model.fit(\n",
    "  train_data,\n",
    "  train_labels,\n",
    "  epochs=5,\n",
    "  validation_data=(test_data, test_labels)\n",
    ")"
   ],
   "metadata": {
    "collapsed": false,
    "ExecuteTime": {
     "start_time": "2023-04-07T14:59:30.580022Z",
     "end_time": "2023-04-07T14:59:31.060495Z"
    }
   }
  },
  {
   "cell_type": "markdown",
   "source": [
    "# save float weights"
   ],
   "metadata": {
    "collapsed": false
   }
  },
  {
   "cell_type": "code",
   "execution_count": 4,
   "outputs": [],
   "source": [
    "tflite_models_dir = pathlib.Path(\"models\")\n",
    "tflite_models_dir.mkdir(exist_ok=True, parents=True)\n",
    "\n",
    "float_weights_path = r\"./models/float_nn_tf/float_weights\"\n",
    "\n",
    "# Save the model:\n",
    "float_weights_model_file = tflite_models_dir / \"float_nn_tf/float_weights\"\n",
    "float_weights_model_file_index = tflite_models_dir / \"float_nn_tf/float_weights.index\"\n",
    "if not float_weights_model_file_index.is_file():\n",
    "    model.save_weights(float_weights_model_file)\n",
    "    print(\"Float weights saved to: \", float_weights_model_file)\n"
   ],
   "metadata": {
    "collapsed": false,
    "ExecuteTime": {
     "start_time": "2023-04-07T14:59:31.060495Z",
     "end_time": "2023-04-07T14:59:31.076241Z"
    }
   }
  },
  {
   "cell_type": "markdown",
   "source": [
    "# load float weights"
   ],
   "metadata": {
    "collapsed": false
   }
  },
  {
   "cell_type": "code",
   "execution_count": 5,
   "outputs": [
    {
     "name": "stdout",
     "output_type": "stream",
     "text": [
      "Model: \"sequential_1\"\n",
      "_________________________________________________________________\n",
      " Layer (type)                Output Shape              Param #   \n",
      "=================================================================\n",
      " dense_2 (Dense)             (None, 3)                 12        \n",
      "                                                                 \n",
      " dense_3 (Dense)             (None, 2)                 8         \n",
      "                                                                 \n",
      "=================================================================\n",
      "Total params: 20\n",
      "Trainable params: 20\n",
      "Non-trainable params: 0\n",
      "_________________________________________________________________\n",
      "None \n",
      "-----------------------------------------\n",
      "-----------------------------------------\n",
      "-----------------------------------------\n",
      "first_layer_weights:\n",
      " [[ 0.38925368  0.538839   -0.7989037 ]\n",
      " [ 0.19111627 -0.04035597 -0.33481574]\n",
      " [ 0.13654101 -0.4816512   0.7096706 ]] \n",
      "-----------\n",
      "first_layer_biases:\n",
      " [-0.00499839 -0.00499784 -0.0049962 ] \n",
      "-----------\n",
      "-----------\n",
      "second_layer_weights:\n",
      " [[ 0.80786335 -0.38606948]\n",
      " [ 1.0455463  -0.54191   ]\n",
      " [ 0.06047702 -0.28789365]] \n",
      "-----------\n",
      "second_layer_biases:\n",
      " [-0.00499789  0.00499789] \n",
      "-----------\n"
     ]
    }
   ],
   "source": [
    "model = create_model()\n",
    "model.load_weights(float_weights_model_file)\n",
    "\n",
    "print(model.summary(), '\\n-----------------------------------------\\n-----------------------------------------\\n-----------------------------------------')\n",
    "first_layer_weights = model.layers[0].get_weights()[0]\n",
    "first_layer_biases  = model.layers[0].get_weights()[1]\n",
    "second_layer_weights = model.layers[1].get_weights()[0]\n",
    "second_layer_biases  = model.layers[1].get_weights()[1]\n",
    "\n",
    "print(f'first_layer_weights:\\n {first_layer_weights} \\n-----------')\n",
    "print(f'first_layer_biases:\\n {first_layer_biases} \\n-----------\\n-----------')\n",
    "print(f'second_layer_weights:\\n {second_layer_weights} \\n-----------')\n",
    "print(f'second_layer_biases:\\n {second_layer_biases} \\n-----------')"
   ],
   "metadata": {
    "collapsed": false,
    "ExecuteTime": {
     "start_time": "2023-04-07T14:59:31.076241Z",
     "end_time": "2023-04-07T14:59:31.123124Z"
    }
   }
  },
  {
   "cell_type": "code",
   "execution_count": 6,
   "outputs": [],
   "source": [
    "if not pathlib.Path(float_weights_path + r'_details.txt').is_file():\n",
    "\n",
    "    with open(float_weights_path + r'_details.txt', 'w') as f:\n",
    "        first_layer_weights = model.layers[0].get_weights()[0]\n",
    "        first_layer_biases  = model.layers[0].get_weights()[1]\n",
    "        second_layer_weights = model.layers[1].get_weights()[0]\n",
    "        second_layer_biases  = model.layers[1].get_weights()[1]\n",
    "\n",
    "        f.write(f'first_layer_weights:\\n {first_layer_weights} \\n-----------\\n')\n",
    "        f.write(f'first_layer_biases:\\n {first_layer_biases} \\n-----------\\n-----------\\n')\n",
    "        f.write(f'second_layer_weights:\\n {second_layer_weights} \\n-----------\\n')\n",
    "        f.write(f'second_layer_biases:\\n {second_layer_biases} \\n-----------\\n')\n",
    "\n",
    "    print('Details saved to: ', float_weights_path + r'_details.txt')"
   ],
   "metadata": {
    "collapsed": false,
    "ExecuteTime": {
     "start_time": "2023-04-07T14:59:31.123124Z",
     "end_time": "2023-04-07T14:59:31.170283Z"
    }
   }
  },
  {
   "cell_type": "markdown",
   "source": [
    "# Convert nn to int8 quantized model"
   ],
   "metadata": {
    "collapsed": false
   }
  },
  {
   "cell_type": "code",
   "execution_count": 7,
   "outputs": [
    {
     "name": "stdout",
     "output_type": "stream",
     "text": [
      "INFO:tensorflow:Assets written to: C:\\Users\\Patrik\\AppData\\Local\\Temp\\tmp_sgtgdje\\assets\n"
     ]
    },
    {
     "name": "stderr",
     "output_type": "stream",
     "text": [
      "d:\\dp\\dp\\code\\openvino_notebooks_py37\\venv\\lib\\site-packages\\tensorflow\\lite\\python\\convert.py:765: UserWarning: Statistics for quantized inputs were expected, but not specified; continuing anyway.\n",
      "  warnings.warn(\"Statistics for quantized inputs were expected, but not \"\n"
     ]
    }
   ],
   "source": [
    "def representative_data_gen():\n",
    "    for input_value in train_data:\n",
    "        yield [input_value]\n",
    "\n",
    "\n",
    "converter = tf.lite.TFLiteConverter.from_keras_model(model)\n",
    "converter.optimizations = [tf.lite.Optimize.DEFAULT]\n",
    "converter.representative_dataset = representative_data_gen\n",
    "\n",
    "# Ensure that if any ops can't be quantized, the converter throws an error\n",
    "converter.target_spec.supported_ops = [tf.lite.OpsSet.TFLITE_BUILTINS_INT8]\n",
    "\n",
    "# Set the input and output tensors to int8\n",
    "converter.inference_input_type = tf.int8\n",
    "converter.inference_output_type = tf.int8\n",
    "\n",
    "tflite_model_quant = converter.convert()"
   ],
   "metadata": {
    "collapsed": false,
    "ExecuteTime": {
     "start_time": "2023-04-07T14:59:31.140642Z",
     "end_time": "2023-04-07T14:59:31.658914Z"
    }
   }
  },
  {
   "cell_type": "markdown",
   "source": [
    "# save q model"
   ],
   "metadata": {
    "collapsed": false
   }
  },
  {
   "cell_type": "code",
   "execution_count": 8,
   "outputs": [],
   "source": [
    "tflite_models_dir = pathlib.Path(\"models\")\n",
    "tflite_models_dir.mkdir(exist_ok=True, parents=True)\n",
    "\n",
    "model_path = r\"models/int8_tflite_model\"\n",
    "\n",
    "# Save the model:\n",
    "int8_tflite_model_file = tflite_models_dir / \"int8_tflite_model.tflite\"\n",
    "if not int8_tflite_model_file.is_file():\n",
    "    int8_tflite_model_file.write_bytes(tflite_model_quant)\n",
    "    print(\"Model saved to: \", int8_tflite_model_file)"
   ],
   "metadata": {
    "collapsed": false,
    "ExecuteTime": {
     "start_time": "2023-04-07T14:59:31.658914Z",
     "end_time": "2023-04-07T14:59:31.689998Z"
    }
   }
  },
  {
   "cell_type": "code",
   "execution_count": 9,
   "outputs": [
    {
     "name": "stdout",
     "output_type": "stream",
     "text": [
      "Serving 'models/int8_tflite_model.tflite' at http://localhost:8080\n"
     ]
    },
    {
     "data": {
      "text/plain": "('localhost', 8080)"
     },
     "execution_count": 9,
     "metadata": {},
     "output_type": "execute_result"
    }
   ],
   "source": [
    "netron.start(model_path + r'.tflite')"
   ],
   "metadata": {
    "collapsed": false,
    "ExecuteTime": {
     "start_time": "2023-04-07T14:59:31.674545Z",
     "end_time": "2023-04-07T14:59:31.810762Z"
    }
   }
  },
  {
   "cell_type": "markdown",
   "source": [
    "# load interpreter"
   ],
   "metadata": {
    "collapsed": false
   }
  },
  {
   "cell_type": "code",
   "execution_count": 10,
   "outputs": [],
   "source": [
    "if not pathlib.Path(model_path + r'_details.txt').is_file():\n",
    "\n",
    "    interpreter_saved_details = tf.lite.Interpreter(model_path=model_path + r'.tflite')\n",
    "    interpreter_saved_details.allocate_tensors()\n",
    "\n",
    "    with open(model_path + r'_details.txt', 'w') as f:\n",
    "        f.write('Tensor details:\\n\\n')\n",
    "        for dict in interpreter_saved_details.get_tensor_details():\n",
    "            i = dict['index']\n",
    "            tensor_name = dict['name']\n",
    "            scales = dict['quantization_parameters']['scales']\n",
    "            zero_points = dict['quantization_parameters']['zero_points']\n",
    "            tensor = interpreter_saved_details.tensor(i)()\n",
    "            type = dict['dtype']\n",
    "\n",
    "            tensor_arr = np.array(tensor)\n",
    "\n",
    "            f.write(\n",
    "                f'{i} {type} {tensor_name} \\n scales:\\n {scales} \\n zero_points:\\n {zero_points} \\n tensor_shape:\\n {tensor.shape}\\n tensor:\\n {np.array2string(tensor_arr, threshold=np.inf, max_line_width=np.inf, separator=\", \")}\\n')\n",
    "            f.write(\n",
    "                '\\n\\n------------------------------------------------------------------------------------------------------------------------\\n\\n')\n",
    "\n",
    "        for item in interpreter_saved_details.get_tensor_details():\n",
    "            f.write(str(item).replace('{\\'name', '\\n{\\'name'))\n",
    "\n",
    "    print('Details saved to: ', model_path + r'_details.txt')\n",
    "\n"
   ],
   "metadata": {
    "collapsed": false,
    "ExecuteTime": {
     "start_time": "2023-04-07T14:59:31.779540Z",
     "end_time": "2023-04-07T14:59:31.810762Z"
    }
   }
  },
  {
   "cell_type": "markdown",
   "source": [
    "# Calculations"
   ],
   "metadata": {
    "collapsed": false
   }
  },
  {
   "cell_type": "code",
   "execution_count": 11,
   "outputs": [
    {
     "data": {
      "text/plain": "<function tensorflow.python.ops.array_ops.quantize(input, min_range, max_range, T, mode='MIN_COMBINED', round_mode='HALF_AWAY_FROM_ZERO', name=None, narrow_range=False, axis=None, ensure_minimum_range=0.01)>"
     },
     "execution_count": 11,
     "metadata": {},
     "output_type": "execute_result"
    }
   ],
   "source": [
    "tf.quantization.quantize"
   ],
   "metadata": {
    "collapsed": false,
    "ExecuteTime": {
     "start_time": "2023-04-07T14:59:31.795137Z",
     "end_time": "2023-04-07T14:59:31.810762Z"
    }
   }
  },
  {
   "cell_type": "markdown",
   "source": [
    "# Weight quantization"
   ],
   "metadata": {
    "collapsed": false
   }
  },
  {
   "cell_type": "code",
   "execution_count": 12,
   "outputs": [],
   "source": [
    "def weight_scaling_factor(a, b, min_T, max_T):\n",
    "    s_a = a / min_T\n",
    "    s_b = b / max_T\n",
    "\n",
    "    if s_a > s_b:\n",
    "        return s_a, a, max_T * s_a\n",
    "    else:\n",
    "        return s_b, min_T * s_b, b\n",
    "\n",
    "def clamp(r,a,b):\n",
    "    return min(max(r, a), b)\n",
    "\n",
    "def weight_quan(r,a,b, min_T, max_T):\n",
    "\n",
    "    s, a, b = weight_scaling_factor(a, b, min_T, max_T)\n",
    "\n",
    "    print(f'r: {r} a: {a} b: {b}')\n",
    "\n",
    "    q_value = np.round((clamp(r,a,b) - a) / s) + min_T\n",
    "\n",
    "    print(f's: {s}')\n",
    "    print(f'q_value: {q_value}')\n",
    "\n",
    "    # z = q_value - (r / s)\n",
    "    z = 0\n",
    "    r = s * (q_value - z)\n",
    "\n",
    "    print(f'z: {z} r: {r}')\n",
    "\n",
    "    return q_value"
   ],
   "metadata": {
    "collapsed": false,
    "ExecuteTime": {
     "start_time": "2023-04-07T14:59:31.810762Z",
     "end_time": "2023-04-07T14:59:31.842416Z"
    }
   }
  },
  {
   "cell_type": "code",
   "execution_count": 13,
   "outputs": [
    {
     "data": {
      "text/plain": "(0.00629058031496063, -0.7989037, 0.7989037)"
     },
     "execution_count": 13,
     "metadata": {},
     "output_type": "execute_result"
    }
   ],
   "source": [
    "weight_scaling_factor(-0.7989037, 0.7096706, -127, 127)"
   ],
   "metadata": {
    "collapsed": false,
    "ExecuteTime": {
     "start_time": "2023-04-07T14:59:31.826388Z",
     "end_time": "2023-04-07T14:59:31.905346Z"
    }
   }
  },
  {
   "cell_type": "code",
   "execution_count": 14,
   "outputs": [
    {
     "name": "stdout",
     "output_type": "stream",
     "text": [
      "r: -0.04035597 a: -0.7989037 b: 0.7989037\n",
      "s: 0.00629058031496063\n",
      "q_value: -6.0\n",
      "z: 0 r: -0.03774348188976378\n"
     ]
    },
    {
     "data": {
      "text/plain": "-6.0"
     },
     "execution_count": 14,
     "metadata": {},
     "output_type": "execute_result"
    }
   ],
   "source": [
    "weight_quan(-0.04035597, -0.7989037, 0.7096706, -127, 127)"
   ],
   "metadata": {
    "collapsed": false,
    "ExecuteTime": {
     "start_time": "2023-04-07T14:59:31.842416Z",
     "end_time": "2023-04-07T14:59:31.936627Z"
    }
   }
  },
  {
   "cell_type": "markdown",
   "source": [
    "# Activation quantization"
   ],
   "metadata": {
    "collapsed": false
   }
  },
  {
   "cell_type": "code",
   "execution_count": 15,
   "outputs": [],
   "source": [
    "def activation_scaling_factor(a, b, n):\n",
    "   return (b - a) / (n - 1)\n",
    "\n",
    "def clamp(r,a,b):\n",
    "    return min(max(r, a), b)\n",
    "\n",
    "def activation_quan(r,a,b, n):\n",
    "\n",
    "    s = activation_scaling_factor(a, b, n)\n",
    "\n",
    "    print(f'r: {r} a: {a} b: {b}')\n",
    "\n",
    "    q_value = np.round((clamp(r,a,b) - a) / s) - n/2\n",
    "\n",
    "    print(f's: {s}')\n",
    "    print(f'q_value: {q_value}')\n",
    "\n",
    "    z = q_value - (r / s)\n",
    "    # z = 0\n",
    "    r = s * (q_value - z)\n",
    "\n",
    "    print(f'z: {z} r: {r}')\n",
    "\n",
    "    return q_value"
   ],
   "metadata": {
    "collapsed": false,
    "ExecuteTime": {
     "start_time": "2023-04-07T14:59:31.858048Z",
     "end_time": "2023-04-07T14:59:31.941636Z"
    }
   }
  },
  {
   "cell_type": "code",
   "execution_count": 16,
   "outputs": [
    {
     "name": "stdout",
     "output_type": "stream",
     "text": [
      "r: 0 a: -1.436018 b: 1.6174504\n",
      "s: 0.011974385882352941\n",
      "q_value: -8.0\n",
      "z: -8.0 r: 0.0\n"
     ]
    },
    {
     "data": {
      "text/plain": "-8.0"
     },
     "execution_count": 16,
     "metadata": {},
     "output_type": "execute_result"
    }
   ],
   "source": [
    "activation_quan(0, -1.436018, 1.6174504, 256)"
   ],
   "metadata": {
    "collapsed": false,
    "ExecuteTime": {
     "start_time": "2023-04-07T14:59:31.873675Z",
     "end_time": "2023-04-07T14:59:31.941636Z"
    }
   }
  },
  {
   "cell_type": "markdown",
   "source": [
    "# Bias quantization"
   ],
   "metadata": {
    "collapsed": false
   }
  },
  {
   "cell_type": "code",
   "execution_count": 17,
   "outputs": [],
   "source": [
    "def bias_quan(r, s_w, s_i):\n",
    "    return np.round(r / (s_i * s_w))"
   ],
   "metadata": {
    "collapsed": false,
    "ExecuteTime": {
     "start_time": "2023-04-07T14:59:31.889811Z",
     "end_time": "2023-04-07T14:59:31.941636Z"
    }
   }
  },
  {
   "cell_type": "code",
   "execution_count": 18,
   "outputs": [
    {
     "data": {
      "text/plain": "-66.0"
     },
     "execution_count": 18,
     "metadata": {},
     "output_type": "execute_result"
    }
   ],
   "source": [
    "bias_quan(-0.0049962, 0.00629058031496063, 0.011974385882352941)"
   ],
   "metadata": {
    "collapsed": false,
    "ExecuteTime": {
     "start_time": "2023-04-07T14:59:31.905346Z",
     "end_time": "2023-04-07T14:59:31.941636Z"
    }
   }
  },
  {
   "cell_type": "markdown",
   "source": [
    "# Calculation of a and b"
   ],
   "metadata": {
    "collapsed": false
   }
  },
  {
   "cell_type": "code",
   "execution_count": 19,
   "outputs": [],
   "source": [
    "def calculation_a_b(num_arrays, input_array):\n",
    "\n",
    "    a = np.zeros(num_arrays)\n",
    "    b = np.zeros(num_arrays)\n",
    "\n",
    "    for i in range(num_arrays):\n",
    "        a[i] = np.min(input_array[i])\n",
    "        b[i] = np.max(input_array[i])\n",
    "\n",
    "    return np.min(a), np.max(b)"
   ],
   "metadata": {
    "collapsed": false,
    "ExecuteTime": {
     "start_time": "2023-04-07T14:59:31.920988Z",
     "end_time": "2023-04-07T14:59:31.983931Z"
    }
   }
  },
  {
   "cell_type": "code",
   "execution_count": 22,
   "outputs": [
    {
     "data": {
      "text/plain": "(-1.4360179901123047, 1.6174503564834595)"
     },
     "execution_count": 22,
     "metadata": {},
     "output_type": "execute_result"
    }
   ],
   "source": [
    "calculation_a_b(np.shape(train_data)[0], train_data)\n",
    "# calculation_a_b(0, weinghts)"
   ],
   "metadata": {
    "collapsed": false,
    "ExecuteTime": {
     "start_time": "2023-04-07T15:00:42.101131Z",
     "end_time": "2023-04-07T15:00:42.116893Z"
    }
   }
  },
  {
   "cell_type": "code",
   "execution_count": 23,
   "outputs": [
    {
     "data": {
      "text/plain": "(3,)"
     },
     "execution_count": 23,
     "metadata": {},
     "output_type": "execute_result"
    }
   ],
   "source": [
    "np.shape(train_data)"
   ],
   "metadata": {
    "collapsed": false,
    "ExecuteTime": {
     "start_time": "2023-04-07T15:02:18.580998Z",
     "end_time": "2023-04-07T15:02:18.608858Z"
    }
   }
  },
  {
   "cell_type": "code",
   "execution_count": null,
   "outputs": [],
   "source": [],
   "metadata": {
    "collapsed": false
   }
  }
 ],
 "metadata": {
  "kernelspec": {
   "display_name": "Python 3",
   "language": "python",
   "name": "python3"
  },
  "language_info": {
   "codemirror_mode": {
    "name": "ipython",
    "version": 2
   },
   "file_extension": ".py",
   "mimetype": "text/x-python",
   "name": "python",
   "nbconvert_exporter": "python",
   "pygments_lexer": "ipython2",
   "version": "2.7.6"
  }
 },
 "nbformat": 4,
 "nbformat_minor": 0
}
