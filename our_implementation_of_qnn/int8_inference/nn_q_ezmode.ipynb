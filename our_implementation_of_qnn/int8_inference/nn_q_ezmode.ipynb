{
 "cells": [
  {
   "cell_type": "markdown",
   "source": [
    "# This is designed for inference calculation check only"
   ],
   "metadata": {
    "collapsed": false
   }
  },
  {
   "cell_type": "code",
   "execution_count": 2,
   "outputs": [],
   "source": [
    "import logging\n",
    "logging.getLogger(\"tensorflow\").setLevel(logging.DEBUG)\n",
    "\n",
    "import tensorflow as tf\n",
    "import netron\n",
    "import pathlib\n",
    "import numpy as np\n",
    "from collections import OrderedDict"
   ],
   "metadata": {
    "collapsed": false,
    "ExecuteTime": {
     "start_time": "2023-03-31T00:21:27.886945Z",
     "end_time": "2023-03-31T00:21:29.471420Z"
    }
   }
  },
  {
   "cell_type": "markdown",
   "source": [
    "# Model"
   ],
   "metadata": {
    "collapsed": false
   }
  },
  {
   "cell_type": "code",
   "execution_count": 3,
   "outputs": [
    {
     "name": "stdout",
     "output_type": "stream",
     "text": [
      "Epoch 1/5\n",
      "1/1 [==============================] - 0s 259ms/step - loss: 0.8618 - accuracy: 0.2500 - val_loss: 1.1485 - val_accuracy: 0.0000e+00\n",
      "Epoch 2/5\n",
      "1/1 [==============================] - 0s 16ms/step - loss: 0.8604 - accuracy: 0.0000e+00 - val_loss: 1.1458 - val_accuracy: 0.0000e+00\n",
      "Epoch 3/5\n",
      "1/1 [==============================] - 0s 16ms/step - loss: 0.8591 - accuracy: 0.0000e+00 - val_loss: 1.1430 - val_accuracy: 0.0000e+00\n",
      "Epoch 4/5\n",
      "1/1 [==============================] - 0s 16ms/step - loss: 0.8577 - accuracy: 0.0000e+00 - val_loss: 1.1403 - val_accuracy: 0.0000e+00\n",
      "Epoch 5/5\n",
      "1/1 [==============================] - 0s 31ms/step - loss: 0.8565 - accuracy: 0.0000e+00 - val_loss: 1.1371 - val_accuracy: 0.0000e+00\n"
     ]
    },
    {
     "data": {
      "text/plain": "<keras.callbacks.History at 0x1d4e6b79948>"
     },
     "execution_count": 3,
     "metadata": {},
     "output_type": "execute_result"
    }
   ],
   "source": [
    "train_data = np.array(\n",
    "    [[ 0.52986234, -0.2172981,  -1.436018  ],\n",
    "    [-0.70177984,  1.6174504,   0.03002556 ],\n",
    "    [-0.8451145,  -0.16036184,  0.6119909 ],\n",
    "    [ 0.95792836,  0.5761335,  -1.4148498 ]], dtype=np.float32)\n",
    "train_labels = np.array([0, 1, 0, 1], dtype=np.float32)\n",
    "\n",
    "test_data = np.array([[-0.60904104,  0.73394835,  0.8958842 ]], dtype=np.float32)\n",
    "test_labels = np.array([1], dtype=np.float32)\n",
    "\n",
    "eva_data = np.array(\n",
    "    [[ 0.52986234, -0.2172981,  -1.436018  ],\n",
    "    [-0.70177984,  1.6174504,   0.03002556 ],\n",
    "    [-0.8451145,  -0.16036184,  0.6119909 ],\n",
    "    [ 0.95792836,  0.5761335,  -1.4148498 ],\n",
    "     [-0.60904104,  0.73394835,  0.8958842 ]], dtype=np.float32)\n",
    "\n",
    "model = tf.keras.Sequential([\n",
    "  tf.keras.layers.Dense(3, activation='relu', input_shape=(3,)),\n",
    "  tf.keras.layers.Dense(2)\n",
    "])\n",
    "\n",
    "\n",
    "# Train the digit classification model\n",
    "model.compile(optimizer='adam',\n",
    "              loss=tf.keras.losses.SparseCategoricalCrossentropy(\n",
    "                  from_logits=True),\n",
    "              metrics=['accuracy'])\n",
    "model.fit(\n",
    "  train_data,\n",
    "  train_labels,\n",
    "  epochs=5,\n",
    "  validation_data=(test_data, test_labels)\n",
    ")\n"
   ],
   "metadata": {
    "collapsed": false,
    "ExecuteTime": {
     "start_time": "2023-03-31T00:21:29.471420Z",
     "end_time": "2023-03-31T00:21:29.908751Z"
    }
   }
  },
  {
   "cell_type": "markdown",
   "source": [
    "# Quantization"
   ],
   "metadata": {
    "collapsed": false
   }
  },
  {
   "cell_type": "code",
   "execution_count": 4,
   "outputs": [
    {
     "name": "stdout",
     "output_type": "stream",
     "text": [
      "INFO:tensorflow:Assets written to: C:\\Users\\Patrik\\AppData\\Local\\Temp\\tmpqmieoknn\\assets\n"
     ]
    },
    {
     "name": "stderr",
     "output_type": "stream",
     "text": [
      "D:\\DP\\DP\\Code\\openvino_notebooks_py37\\venv\\lib\\site-packages\\tensorflow\\lite\\python\\convert.py:766: UserWarning: Statistics for quantized inputs were expected, but not specified; continuing anyway.\n",
      "  warnings.warn(\"Statistics for quantized inputs were expected, but not \"\n"
     ]
    }
   ],
   "source": [
    "def representative_data_gen():\n",
    "    for input_value in train_data:\n",
    "        yield [input_value]\n",
    "\n",
    "\n",
    "converter = tf.lite.TFLiteConverter.from_keras_model(model)\n",
    "converter.optimizations = [tf.lite.Optimize.DEFAULT]\n",
    "converter.representative_dataset = representative_data_gen\n",
    "\n",
    "# Ensure that if any ops can't be quantized, the converter throws an error\n",
    "converter.target_spec.supported_ops = [tf.lite.OpsSet.TFLITE_BUILTINS_INT8]\n",
    "\n",
    "# Set the input and output tensors to uint8\n",
    "converter.inference_input_type = tf.uint8\n",
    "converter.inference_output_type = tf.uint8\n",
    "\n",
    "tflite_model_quant = converter.convert()"
   ],
   "metadata": {
    "collapsed": false,
    "ExecuteTime": {
     "start_time": "2023-03-31T00:21:29.908751Z",
     "end_time": "2023-03-31T00:21:30.390129Z"
    }
   }
  },
  {
   "cell_type": "markdown",
   "source": [
    "# Save model"
   ],
   "metadata": {
    "collapsed": false
   }
  },
  {
   "cell_type": "code",
   "execution_count": 5,
   "outputs": [],
   "source": [
    "tflite_models_dir = pathlib.Path(\"models\")\n",
    "tflite_models_dir.mkdir(exist_ok=True, parents=True)\n",
    "\n",
    "model_path = r\"models/ezmode_tflite_model_quant\"\n",
    "\n",
    "# Save the model:\n",
    "tflite_model_file = tflite_models_dir / \"ezmode_tflite_model_quant.tflite\"\n",
    "if not tflite_model_file.is_file():\n",
    "    tflite_model_file.write_bytes(tflite_model_quant)\n",
    "    print(\"Model saved to: \", tflite_model_file)"
   ],
   "metadata": {
    "collapsed": false,
    "ExecuteTime": {
     "start_time": "2023-03-31T00:21:30.390129Z",
     "end_time": "2023-03-31T00:21:30.405786Z"
    }
   }
  },
  {
   "cell_type": "markdown",
   "source": [
    "# Evaluate model"
   ],
   "metadata": {
    "collapsed": false
   }
  },
  {
   "cell_type": "code",
   "execution_count": 6,
   "outputs": [
    {
     "name": "stdout",
     "output_type": "stream",
     "text": [
      "input:  <class 'numpy.uint8'> 0\n",
      "output:  <class 'numpy.uint8'> 8\n"
     ]
    }
   ],
   "source": [
    "interpreter = tf.lite.Interpreter(model_path=model_path + r'.tflite')\n",
    "\n",
    "input_type = interpreter.get_input_details()[0]\n",
    "print('input: ', input_type['dtype'], input_type['index'])\n",
    "output_type = interpreter.get_output_details()[0]\n",
    "print('output: ', output_type['dtype'], output_type['index'])"
   ],
   "metadata": {
    "collapsed": false,
    "ExecuteTime": {
     "start_time": "2023-03-31T00:21:30.409293Z",
     "end_time": "2023-03-31T00:21:30.453380Z"
    }
   }
  },
  {
   "cell_type": "code",
   "execution_count": 7,
   "outputs": [],
   "source": [
    "def evaluate_model(interpreter):\n",
    "  interpreter.allocate_tensors()\n",
    "  input_index = interpreter.get_input_details()[0][\"index\"]\n",
    "  output_index = interpreter.get_output_details()[0][\"index\"]\n",
    "  input_details = interpreter.get_input_details()[0]\n",
    "\n",
    "  # Run predictions on every image in the \"test\" dataset.\n",
    "  prediction_digits = []\n",
    "  for i, test_d in enumerate(eva_data):\n",
    "    # Pre-processing: add batch dimension and convert to match with the model's input data format.\n",
    "\n",
    "    # Check if the input type is quantized, then rescale input data to uint8\n",
    "    if input_details[\"dtype\"] == np.uint8:\n",
    "      input_scale, input_zero_point = input_details[\"quantization\"]\n",
    "      test_d = test_d / input_scale + input_zero_point\n",
    "\n",
    "    test_d = np.expand_dims(test_d, axis=0).astype(input_details[\"dtype\"])\n",
    "    # print('input: ', test_d)\n",
    "    # print('test_d: ', test_d.shape, test_d.dtype, test_d)\n",
    "    interpreter.set_tensor(input_index, test_d)\n",
    "\n",
    "    # Run inference.\n",
    "    interpreter.invoke()\n",
    "\n",
    "    # Post-processing: remove batch dimension and find the digit with highest probability.\n",
    "    output = interpreter.get_tensor(output_index)\n",
    "    print(\"input: \", interpreter.get_tensor(0))\n",
    "    print(\"q1_output: \", interpreter.get_tensor(5))\n",
    "    print(\"l1_output: \", interpreter.get_tensor(6))\n",
    "    print(\"l2_output: \", interpreter.get_tensor(7))\n",
    "    print('q2_output: ', output)\n",
    "    print('-----------------')\n",
    "    digit = np.argmax(output[0])\n",
    "    prediction_digits.append(digit)\n",
    "\n",
    "  # Compare prediction results with ground truth labels to calculate accuracy.\n",
    "  prediction_digits = np.array(prediction_digits)\n",
    "  accuracy = (prediction_digits == test_labels).mean()\n",
    "  return accuracy, output, prediction_digits"
   ],
   "metadata": {
    "collapsed": false,
    "ExecuteTime": {
     "start_time": "2023-03-31T00:21:30.422113Z",
     "end_time": "2023-03-31T00:21:30.453380Z"
    }
   }
  },
  {
   "cell_type": "code",
   "execution_count": 8,
   "outputs": [
    {
     "name": "stdout",
     "output_type": "stream",
     "text": [
      "input:  [[164 101   0]]\n",
      "q1_output:  [[  86   15 -128]]\n",
      "l1_output:  [[ -42 -113 -128]]\n",
      "l2_output:  [[86 15]]\n",
      "q2_output:  [[214 143]]\n",
      "-----------------\n",
      "input:  [[ 61 255 122]]\n",
      "q1_output:  [[ 126 -128   -6]]\n",
      "l1_output:  [[ -2   0 127]]\n",
      "l2_output:  [[ 126 -128]]\n",
      "q2_output:  [[254   0]]\n",
      "-----------------\n",
      "input:  [[ 49 106 171]]\n",
      "q1_output:  [[28 36 43]]\n",
      "l1_output:  [[-100  -92  -74]]\n",
      "l2_output:  [[28 36]]\n",
      "q2_output:  [[156 164]]\n",
      "-----------------\n",
      "input:  [[199 168   1]]\n",
      "q1_output:  [[  84   14 -127]]\n",
      "l1_output:  [[ -44 -114 -115]]\n",
      "l2_output:  [[84 14]]\n",
      "q2_output:  [[212 142]]\n",
      "-----------------\n",
      "input:  [[ 69 181 194]]\n",
      "q1_output:  [[ 87 -22  66]]\n",
      "l1_output:  [[-41 106 -18]]\n",
      "l2_output:  [[ 87 -22]]\n",
      "q2_output:  [[215 106]]\n",
      "-----------------\n",
      "acc:  0.2\n",
      "output:  [[215 106]]\n",
      "pred:  [0 0 1 0 0]\n"
     ]
    }
   ],
   "source": [
    "acc, output, pred = evaluate_model(interpreter)\n",
    "print('acc: ', acc)\n",
    "print('output: ', output)\n",
    "print('pred: ', pred)"
   ],
   "metadata": {
    "collapsed": false,
    "ExecuteTime": {
     "start_time": "2023-03-31T00:21:30.437753Z",
     "end_time": "2023-03-31T00:21:30.453380Z"
    }
   }
  },
  {
   "cell_type": "markdown",
   "source": [
    "# Save model details after evaluation"
   ],
   "metadata": {
    "collapsed": false
   }
  },
  {
   "cell_type": "code",
   "execution_count": 9,
   "outputs": [],
   "source": [
    "if not pathlib.Path(model_path + r'_details.txt').is_file():\n",
    "\n",
    "    interpreter_saved_details = tf.lite.Interpreter(model_path=model_path + r'.tflite')\n",
    "    evaluate_model(interpreter_saved_details)\n",
    "\n",
    "    with open(model_path + r'_details.txt', 'w') as f:\n",
    "        f.write('Tensor details:\\n\\n')\n",
    "        for dict in interpreter_saved_details.get_tensor_details():\n",
    "            i = dict['index']\n",
    "            tensor_name = dict['name']\n",
    "            scales = dict['quantization_parameters']['scales']\n",
    "            zero_points = dict['quantization_parameters']['zero_points']\n",
    "            tensor = interpreter_saved_details.tensor(i)()\n",
    "            type = dict['dtype']\n",
    "\n",
    "            tensor_arr = np.array(tensor)\n",
    "\n",
    "            f.write(\n",
    "                f'{i} {type} {tensor_name} \\n scales:\\n {scales} \\n zero_points:\\n {zero_points} \\n tensor_shape:\\n {tensor.shape}\\n tensor:\\n {np.array2string(tensor_arr, threshold=np.inf, max_line_width=np.inf, separator=\", \")}\\n')\n",
    "            f.write(\n",
    "                '\\n\\n------------------------------------------------------------------------------------------------------------------------\\n\\n')\n",
    "\n",
    "        for item in interpreter_saved_details.get_tensor_details():\n",
    "            f.write(str(item).replace('{\\'name', '\\n{\\'name'))\n",
    "\n",
    "    print('Details saved to: ', model_path + r'_details.txt')"
   ],
   "metadata": {
    "collapsed": false,
    "ExecuteTime": {
     "start_time": "2023-03-31T00:21:30.453380Z",
     "end_time": "2023-03-31T00:21:30.469004Z"
    }
   }
  },
  {
   "cell_type": "markdown",
   "source": [
    "# Netron"
   ],
   "metadata": {
    "collapsed": false
   }
  },
  {
   "cell_type": "code",
   "execution_count": 10,
   "outputs": [
    {
     "name": "stdout",
     "output_type": "stream",
     "text": [
      "Serving 'models/ezmode_tflite_model_quant.tflite' at http://localhost:8080\n"
     ]
    },
    {
     "data": {
      "text/plain": "('localhost', 8080)"
     },
     "execution_count": 10,
     "metadata": {},
     "output_type": "execute_result"
    }
   ],
   "source": [
    "netron.start(model_path + r'.tflite')"
   ],
   "metadata": {
    "collapsed": false,
    "ExecuteTime": {
     "start_time": "2023-03-31T00:21:30.469004Z",
     "end_time": "2023-03-31T00:21:30.563439Z"
    }
   }
  },
  {
   "cell_type": "markdown",
   "source": [
    "# Manual calculation of Inference"
   ],
   "metadata": {
    "collapsed": false
   }
  },
  {
   "cell_type": "code",
   "execution_count": 11,
   "outputs": [],
   "source": [
    "def affine_mapping(S, Z, q):\n",
    "    return S * (q - Z)\n",
    "\n",
    "def affine_mapping_inv(S, Z, r):\n",
    "    return int((r / S) + Z)\n"
   ],
   "metadata": {
    "collapsed": false,
    "ExecuteTime": {
     "start_time": "2023-03-31T00:21:30.563439Z",
     "end_time": "2023-03-31T00:21:30.610707Z"
    }
   }
  },
  {
   "cell_type": "code",
   "execution_count": 12,
   "outputs": [],
   "source": [
    "class Module:\n",
    "    def __init__(self):\n",
    "        self.modules = OrderedDict()\n",
    "\n",
    "    def add_module(self, module, name:str):\n",
    "        if hasattr(self, name) and name not in self.modules:\n",
    "            raise KeyError(\"attribute '{}' already exists\".format(name))\n",
    "        elif '.' in name:\n",
    "            raise KeyError(\"module name can't contain \\\".\\\"\")\n",
    "        elif name == '':\n",
    "            raise KeyError(\"module name can't be empty string \\\"\\\"\")\n",
    "        self.modules[name] = module\n",
    "\n",
    "    def forward(self, input) -> np.ndarray:\n",
    "        for module in self.modules:\n",
    "            print(f\"module: {module}\")\n",
    "            input = self.modules[module].forward(input)\n",
    "\n",
    "        return input\n",
    "\n",
    "    def backward(self, *args, **kwargs):\n",
    "        pass\n",
    "\n",
    "    def __call__(self, *args, **kwargs):\n",
    "        return self.forward(*args, **kwargs)\n"
   ],
   "metadata": {
    "collapsed": false,
    "ExecuteTime": {
     "start_time": "2023-03-31T00:21:30.579063Z",
     "end_time": "2023-03-31T00:21:30.626340Z"
    }
   }
  },
  {
   "cell_type": "code",
   "execution_count": 13,
   "outputs": [],
   "source": [
    "#------------------------------------------------------------------------------\n",
    "#   Linear class\n",
    "#------------------------------------------------------------------------------\n",
    "class Linear(Module):\n",
    "    def __init__(self, w, b, s_w, s_i, s_o, z_i, z_o):\n",
    "        super(Linear, self).__init__()\n",
    "        self.W = w\n",
    "        self.b = b\n",
    "        self.z_i = z_i\n",
    "        self.z_o = z_o\n",
    "        self.s_i = s_i\n",
    "        self.s_w = s_w\n",
    "        self.s_o = s_o\n",
    "        self.m = s_i * s_w / s_o\n",
    "        self.s_b = s_i * s_w\n",
    "        self.m_s = s_i / s_w\n",
    "\n",
    "    def forward(self, input: np.ndarray) -> np.ndarray:\n",
    "\n",
    "        # print(input.shape, self.W.shape)\n",
    "\n",
    "        # o = np.zeros((input.shape[0], self.W.shape[1]))\n",
    "        #\n",
    "        #\n",
    "        # for i in range(input.shape[0]):\n",
    "        #     for k in range(self.W.shape[1]):\n",
    "        #         for j in range(input.shape[1]):\n",
    "        #             o[i][k] += (input[i][j] - self.z_i) * self.W[j][k]\n",
    "        #             print((input[i][j] - self.z_i) * self.W[j][k])\n",
    "        #             print(f'input[i][j] = {input[i][j]}, z_i = {self.z_i}, W[j][k] = {self.W[j][k]}')\n",
    "        #             print((self.z_o + self.m * (input[i][j] - self.z_i) * self.W[j][k]))\n",
    "        #\n",
    "        #         print(f'z_o = {self.z_o}, m = {self.m}, o = {o[i][k]}')\n",
    "        #         o[i][k] = self.z_o + self.m * o[i][k]\n",
    "        #\n",
    "        # print(f'input: {input} \\noutput1: {o}\\n-----------------')\n",
    "\n",
    "        output = np.zeros((input.shape[0], self.W.shape[1]))\n",
    "        a2 = np.zeros((self.W.shape[1]))\n",
    "\n",
    "        for i in range(input.shape[0]):\n",
    "            for k in range(self.W.shape[1]):\n",
    "                for j in range(input.shape[1]):\n",
    "                    a2[k] += self.W[j][k]\n",
    "                    output[i][k] += input[i][j] * self.W[j][k]\n",
    "\n",
    "                    # print(f'W = {self.W[j][k]}, output_64 = {input[i][j] * self.W[j][k]}')\n",
    "                # output[i][k] = int((self.z_o + self.m * (-self.z_i*a2[k] + output[i][k] + self.b[0][k] )) / self.m_s)\n",
    "                # output[i][k] = int(self.z_o + self.m * (-self.z_i*a2[k] + output[i][k] + self.b[0][k] ))\n",
    "                print(f'z_o = {self.z_o}, m = {self.m}, o = {output[i][k]}, b = {self.b[0][k]}, a2 = {a2[k]}, z_i = {self.z_i}, zia2: {-self.z_i*a2[k]}')\n",
    "                output[i][k] = tf.dtypes.saturate_cast(self.z_o + self.m * (-self.z_i*a2[k] + output[i][k] + self.b[0][k] ), tf.int8)\n",
    "\n",
    "\n",
    "        print(f'input: {input} \\noutput2: {output}\\n-----------------')\n",
    "\n",
    "        return output\n",
    "\n",
    "    def backward(self, dNet):\n",
    "        pass\n",
    "\n",
    "#------------------------------------------------------------------------------\n",
    "#   Quantization class\n",
    "#------------------------------------------------------------------------------\n",
    "class Quantization(Module):\n",
    "    def __init__(self, s, z_i, z_o, sign):\n",
    "        super(Quantization, self).__init__()\n",
    "        self.z_i = z_i\n",
    "        self.z_o = z_o\n",
    "        self.s = s\n",
    "        self.sign = sign\n",
    "\n",
    "    def forward(self, input: np.ndarray) -> np.ndarray:\n",
    "        # arr_r = np.zeros(input.shape, dtype=np.float32)\n",
    "        # for i in range(input.shape[0]):\n",
    "        #     for j in range(input.shape[1]):\n",
    "        #         arr_r[i][j] = affine_mapping(self.s, self.z_i, input[i][j])\n",
    "        #\n",
    "        # print(arr_r)\n",
    "        #\n",
    "        # arr_q = np.zeros(input.shape)\n",
    "        # for i in range(input.shape[0]):\n",
    "        #     for j in range(input.shape[1]):\n",
    "        #         arr_q[i][j] = affine_mapping_inv(self.s, self.z_o, arr_r[i][j])\n",
    "\n",
    "\n",
    "        arr_q = (input - 128) if (self.sign == 0) else (input + 128)\n",
    "\n",
    "\n",
    "        # print(f'input: {input} \\noutput: {arr_q}\\n-----------------')\n",
    "        return arr_q\n",
    "\n",
    "\n",
    "    def backward(self, dNet):\n",
    "        pass"
   ],
   "metadata": {
    "collapsed": false,
    "ExecuteTime": {
     "start_time": "2023-03-31T00:21:30.594691Z",
     "end_time": "2023-03-31T00:21:30.626340Z"
    }
   }
  },
  {
   "cell_type": "code",
   "execution_count": 14,
   "outputs": [],
   "source": [
    "quan_s1 = 0.01197439\n",
    "quan_z_i1 = 120\n",
    "quan_z_o1 = -8\n",
    "\n",
    "w1 = np.array( [[ -63, -127,   -4], [  87,  -84,  -65], [-127,  114,  -49]]).T\n",
    "b1 = np.array([[-104, -103, -104]])\n",
    "s_i1 = 0.01197439\n",
    "s_w1 = 0.00402647\n",
    "s_o1 = 0.00426930\n",
    "z_i1 = -8\n",
    "z_o1 = -128\n",
    "\n",
    "w2 = np.array( [[-113,   34,   47], [  43,  -51, -127]]).T\n",
    "b2 = np.array([[-143,  143]])\n",
    "s_i2 = 0.00426930\n",
    "s_w2 = 0.00819842\n",
    "s_o2 = 0.00605172\n",
    "z_i2 = -128\n",
    "z_o2 = 58\n",
    "\n",
    "quan_s2 = 0.00605172\n",
    "quan_z_i2 = 58\n",
    "quan_z_o2 = 186"
   ],
   "metadata": {
    "collapsed": false,
    "ExecuteTime": {
     "start_time": "2023-03-31T00:21:30.610707Z",
     "end_time": "2023-03-31T00:21:30.626340Z"
    }
   }
  },
  {
   "cell_type": "code",
   "execution_count": 15,
   "outputs": [
    {
     "name": "stdout",
     "output_type": "stream",
     "text": [
      "module: q1\n",
      "module: l1\n",
      "z_o = -128, m = 0.01129330852910313, o = -3278.0, b = -104, a2 = -194.0, z_i = -8, zia2: -1552.0\n",
      "z_o = -128, m = 0.01129330852910313, o = -13875.0, b = -103, a2 = -62.0, z_i = -8, zia2: -496.0\n",
      "z_o = -128, m = 0.01129330852910313, o = 10301.0, b = -104, a2 = -62.0, z_i = -8, zia2: -496.0\n",
      "input: [[-59  53  66]] \n",
      "output2: [[-128. -128.  -18.]]\n",
      "-----------------\n",
      "module: l2\n",
      "z_o = 58, m = 0.005783729998413674, o = 9266.0, b = -143, a2 = -32.0, z_i = -128, zia2: -4096.0\n",
      "z_o = 58, m = 0.005783729998413674, o = 3310.0, b = 143, a2 = -135.0, z_i = -128, zia2: -17280.0\n",
      "input: [[-128. -128.  -18.]] \n",
      "output2: [[ 87. -21.]]\n",
      "-----------------\n",
      "module: q2\n"
     ]
    },
    {
     "data": {
      "text/plain": "array([[215., 107.]])"
     },
     "execution_count": 15,
     "metadata": {},
     "output_type": "execute_result"
    }
   ],
   "source": [
    "module = Module()\n",
    "module.add_module(Quantization(quan_s1, quan_z_i1, quan_z_o1, 0), 'q1')\n",
    "module.add_module(Linear(w1, b1, s_w1, s_i1, s_o1, z_i1, z_o1), 'l1')\n",
    "module.add_module(Linear(w2, b2, s_w2, s_i2, s_o2, z_i2, z_o2), 'l2')\n",
    "module.add_module(Quantization(quan_s2, quan_z_i2, quan_z_o2, 1), 'q2')\n",
    "module.forward(np.array( [[ 69, 181, 194]]))"
   ],
   "metadata": {
    "collapsed": false,
    "ExecuteTime": {
     "start_time": "2023-03-31T00:21:30.626340Z",
     "end_time": "2023-03-31T00:21:30.709506Z"
    }
   }
  },
  {
   "cell_type": "code",
   "execution_count": 16,
   "outputs": [
    {
     "name": "stdout",
     "output_type": "stream",
     "text": [
      "input:  [[164 101   0]]\n",
      "q1_output:  [[  86   15 -128]]\n",
      "l1_output:  [[ -42 -113 -128]]\n",
      "l2_output:  [[86 15]]\n",
      "q2_output:  [[214 143]]\n",
      "-----------------\n",
      "input:  [[ 61 255 122]]\n",
      "q1_output:  [[ 126 -128   -6]]\n",
      "l1_output:  [[ -2   0 127]]\n",
      "l2_output:  [[ 126 -128]]\n",
      "q2_output:  [[254   0]]\n",
      "-----------------\n",
      "input:  [[ 49 106 171]]\n",
      "q1_output:  [[28 36 43]]\n",
      "l1_output:  [[-100  -92  -74]]\n",
      "l2_output:  [[28 36]]\n",
      "q2_output:  [[156 164]]\n",
      "-----------------\n",
      "input:  [[199 168   1]]\n",
      "q1_output:  [[  84   14 -127]]\n",
      "l1_output:  [[ -44 -114 -115]]\n",
      "l2_output:  [[84 14]]\n",
      "q2_output:  [[212 142]]\n",
      "-----------------\n",
      "input:  [[ 69 181 194]]\n",
      "q1_output:  [[ 87 -22  66]]\n",
      "l1_output:  [[-41 106 -18]]\n",
      "l2_output:  [[ 87 -22]]\n",
      "q2_output:  [[215 106]]\n",
      "-----------------\n",
      "-----------------\n",
      "module: q1\n",
      "module: l1\n",
      "z_o = -128, m = 0.01129330852910313, o = 1673.0, b = -104, a2 = -194.0, z_i = -8, zia2: -1552.0\n",
      "z_o = -128, m = 0.01129330852910313, o = 13720.0, b = -103, a2 = -62.0, z_i = -8, zia2: -496.0\n",
      "z_o = -128, m = 0.01129330852910313, o = -1378.0, b = -104, a2 = -62.0, z_i = -8, zia2: -496.0\n",
      "input: [[  36  -27 -128]] \n",
      "output2: [[-127.   20. -128.]]\n",
      "-----------------\n",
      "module: l2\n",
      "z_o = 58, m = 0.005783729998413674, o = 9015.0, b = -143, a2 = -32.0, z_i = -128, zia2: -4096.0\n",
      "z_o = 58, m = 0.005783729998413674, o = 9775.0, b = 143, a2 = -135.0, z_i = -128, zia2: -17280.0\n",
      "input: [[-127.   20. -128.]] \n",
      "output2: [[85. 15.]]\n",
      "-----------------\n",
      "module: q2\n",
      "my:  [[213. 143.]]\n",
      "-----------------\n",
      "-----------------\n",
      "module: q1\n",
      "module: l1\n",
      "z_o = -128, m = 0.01129330852910313, o = -11884.0, b = -104, a2 = -194.0, z_i = -8, zia2: -1552.0\n",
      "z_o = -128, m = 0.01129330852910313, o = -16107.0, b = -103, a2 = -62.0, z_i = -8, zia2: -496.0\n",
      "z_o = -128, m = 0.01129330852910313, o = 23281.0, b = -104, a2 = -62.0, z_i = -8, zia2: -496.0\n",
      "input: [[-67 127  -6]] \n",
      "output2: [[-128. -128.  127.]]\n",
      "-----------------\n",
      "module: l2\n",
      "z_o = 58, m = 0.005783729998413674, o = 16081.0, b = -143, a2 = -32.0, z_i = -128, zia2: -4096.0\n",
      "z_o = 58, m = 0.005783729998413674, o = -15105.0, b = 143, a2 = -135.0, z_i = -128, zia2: -17280.0\n",
      "input: [[-128. -128.  127.]] \n",
      "output2: [[ 126. -128.]]\n",
      "-----------------\n",
      "module: q2\n",
      "my:  [[254.   0.]]\n",
      "module: q1\n",
      "module: l1\n",
      "z_o = -128, m = 0.01129330852910313, o = 7599.0, b = -104, a2 = -194.0, z_i = -8, zia2: -1552.0\n",
      "z_o = -128, m = 0.01129330852910313, o = -7820.0, b = -103, a2 = -62.0, z_i = -8, zia2: -496.0\n",
      "z_o = -128, m = 0.01129330852910313, o = 5418.0, b = -104, a2 = -62.0, z_i = -8, zia2: -496.0\n",
      "input: [[-79 -22  43]] \n",
      "output2: [[ -60. -128.  -73.]]\n",
      "-----------------\n",
      "module: l2\n",
      "z_o = 58, m = 0.005783729998413674, o = -1003.0, b = -143, a2 = -32.0, z_i = -128, zia2: -4096.0\n",
      "z_o = 58, m = 0.005783729998413674, o = 13219.0, b = 143, a2 = -135.0, z_i = -128, zia2: -17280.0\n",
      "input: [[ -60. -128.  -73.]] \n",
      "output2: [[27. 35.]]\n",
      "-----------------\n",
      "module: q2\n",
      "my:  [[155. 163.]]\n",
      "module: q1\n",
      "module: l1\n",
      "z_o = -128, m = 0.01129330852910313, o = -9045.0, b = -104, a2 = -194.0, z_i = -8, zia2: -1552.0\n",
      "z_o = -128, m = 0.01129330852910313, o = 11072.0, b = -103, a2 = -62.0, z_i = -8, zia2: -496.0\n",
      "z_o = -128, m = 0.01129330852910313, o = 1766.0, b = -104, a2 = -62.0, z_i = -8, zia2: -496.0\n",
      "input: [[  71   40 -127]] \n",
      "output2: [[-128.   -9. -114.]]\n",
      "-----------------\n",
      "module: l2\n",
      "z_o = 58, m = 0.005783729998413674, o = 8800.0, b = -143, a2 = -32.0, z_i = -128, zia2: -4096.0\n",
      "z_o = 58, m = 0.005783729998413674, o = 9433.0, b = 143, a2 = -135.0, z_i = -128, zia2: -17280.0\n",
      "input: [[-128.   -9. -114.]] \n",
      "output2: [[84. 13.]]\n",
      "-----------------\n",
      "module: q2\n",
      "my:  [[212. 141.]]\n",
      "module: q1\n",
      "module: l1\n",
      "z_o = -128, m = 0.01129330852910313, o = -3278.0, b = -104, a2 = -194.0, z_i = -8, zia2: -1552.0\n",
      "z_o = -128, m = 0.01129330852910313, o = -13875.0, b = -103, a2 = -62.0, z_i = -8, zia2: -496.0\n",
      "z_o = -128, m = 0.01129330852910313, o = 10301.0, b = -104, a2 = -62.0, z_i = -8, zia2: -496.0\n",
      "input: [[-59  53  66]] \n",
      "output2: [[-128. -128.  -18.]]\n",
      "-----------------\n",
      "module: l2\n",
      "z_o = 58, m = 0.005783729998413674, o = 9266.0, b = -143, a2 = -32.0, z_i = -128, zia2: -4096.0\n",
      "z_o = 58, m = 0.005783729998413674, o = 3310.0, b = 143, a2 = -135.0, z_i = -128, zia2: -17280.0\n",
      "input: [[-128. -128.  -18.]] \n",
      "output2: [[ 87. -21.]]\n",
      "-----------------\n",
      "module: q2\n",
      "my:  [[215. 107.]]\n"
     ]
    }
   ],
   "source": [
    "evaluate_model(interpreter)\n",
    "print('-----------------')\n",
    "print(f\"my: \", module.forward(np.array( [[164, 101,   0]])))\n",
    "print('-----------------\\n-----------------')\n",
    "print(f\"my: \", module.forward(np.array( [[ 61, 255, 122]])))\n",
    "print(f\"my: \", module.forward(np.array( [[ 49, 106, 171]])))\n",
    "print(f\"my: \", module.forward(np.array( [[199, 168,   1]])))\n",
    "print(f\"my: \", module.forward(np.array( [[ 69, 181, 194]])))"
   ],
   "metadata": {
    "collapsed": false,
    "ExecuteTime": {
     "start_time": "2023-03-31T00:21:30.641969Z",
     "end_time": "2023-03-31T00:21:30.709506Z"
    }
   }
  },
  {
   "cell_type": "code",
   "execution_count": 16,
   "outputs": [],
   "source": [],
   "metadata": {
    "collapsed": false,
    "ExecuteTime": {
     "start_time": "2023-03-31T00:21:30.673215Z",
     "end_time": "2023-03-31T00:21:30.709506Z"
    }
   }
  },
  {
   "cell_type": "code",
   "execution_count": 16,
   "outputs": [],
   "source": [],
   "metadata": {
    "collapsed": false,
    "ExecuteTime": {
     "start_time": "2023-03-31T00:21:30.688842Z",
     "end_time": "2023-03-31T00:21:30.709506Z"
    }
   }
  }
 ],
 "metadata": {
  "kernelspec": {
   "display_name": "Python 3",
   "language": "python",
   "name": "python3"
  },
  "language_info": {
   "codemirror_mode": {
    "name": "ipython",
    "version": 2
   },
   "file_extension": ".py",
   "mimetype": "text/x-python",
   "name": "python",
   "nbconvert_exporter": "python",
   "pygments_lexer": "ipython2",
   "version": "2.7.6"
  }
 },
 "nbformat": 4,
 "nbformat_minor": 0
}
