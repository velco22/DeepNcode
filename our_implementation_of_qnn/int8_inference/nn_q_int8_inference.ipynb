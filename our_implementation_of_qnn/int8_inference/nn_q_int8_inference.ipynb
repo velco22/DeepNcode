{
 "cells": [
  {
   "cell_type": "markdown",
   "source": [
    "# This is designed for inference calculation only"
   ],
   "metadata": {
    "collapsed": false
   }
  },
  {
   "cell_type": "code",
   "execution_count": 7,
   "outputs": [],
   "source": [
    "import logging\n",
    "logging.getLogger(\"tensorflow\").setLevel(logging.DEBUG)\n",
    "\n",
    "import tensorflow as tf\n",
    "import numpy as np\n",
    "from collections import OrderedDict"
   ],
   "metadata": {
    "collapsed": false,
    "ExecuteTime": {
     "start_time": "2023-04-06T13:35:54.532164Z",
     "end_time": "2023-04-06T13:35:54.563828Z"
    }
   }
  },
  {
   "cell_type": "markdown",
   "source": [
    "# Data preparation"
   ],
   "metadata": {
    "collapsed": false
   }
  },
  {
   "cell_type": "code",
   "execution_count": 8,
   "outputs": [],
   "source": [
    "quan_s1 = np.float32(0.011974385008215904)\n",
    "quan_z_i1 = np.uint8(120)\n",
    "quan_z_o1 = np.int8(-8)\n",
    "\n",
    "w1 = np.array( [[ -63, -127,   -4], [  87,  -84,  -65], [-127,  114,  -49]], dtype=np.int8).T\n",
    "b1 = np.array([-104, -103, -104], dtype=np.int32)\n",
    "s_i1 = np.float32(0.011974385008215904)\n",
    "s_w1 = np.float32(0.004026466049253941)\n",
    "s_o1 = np.float32(0.004269302356988192)\n",
    "z_i1 = np.int8(-8)\n",
    "z_o1 = np.int8(-128)\n",
    "\n",
    "w2 = np.array( [[-113,   34,   47], [  43,  -51, -127]], dtype=np.int8).T\n",
    "b2 = np.array([-143,  143], dtype=np.int32)\n",
    "s_i2 = np.float32(0.004269302356988192)\n",
    "s_w2 = np.float32(0.008198416791856289)\n",
    "s_o2 = np.float32(0.006051715463399887)\n",
    "z_i2 = np.int8(-128)\n",
    "z_o2 = np.int8(58)\n",
    "\n",
    "quan_s2 = np.float32(0.006051715463399887)\n",
    "quan_z_i2 = np.int8(58)\n",
    "quan_z_o2 = np.uint8(186)\n",
    "\n",
    "input1 = np.array( [[164, 101,   0]], dtype=np.uint8)\n",
    "input2 = np.array( [[ 61, 255, 122]], dtype=np.uint8)\n",
    "input3 = np.array( [[ 49, 106, 171]], dtype=np.uint8)\n",
    "input4 = np.array( [[199, 168,   1]], dtype=np.uint8)\n",
    "input5 = np.array( [[ 69, 181, 194]], dtype=np.uint8)"
   ],
   "metadata": {
    "collapsed": false,
    "ExecuteTime": {
     "start_time": "2023-04-06T13:35:54.550295Z",
     "end_time": "2023-04-06T13:35:54.610753Z"
    }
   }
  },
  {
   "cell_type": "markdown",
   "source": [
    "# Manual calculation of Inference for quantized nn"
   ],
   "metadata": {
    "collapsed": false
   }
  },
  {
   "cell_type": "code",
   "execution_count": 9,
   "outputs": [],
   "source": [
    "class Module:\n",
    "    def __init__(self):\n",
    "        self.modules = OrderedDict()\n",
    "\n",
    "    def add_module(self, module, name:str):\n",
    "        self.modules[name] = module\n",
    "\n",
    "    def forward(self, input) -> np.ndarray:\n",
    "        for module in self.modules:\n",
    "            # print(f\"module: {module}\")\n",
    "            input = self.modules[module].forward(input)\n",
    "\n",
    "        return input"
   ],
   "metadata": {
    "collapsed": false,
    "ExecuteTime": {
     "start_time": "2023-04-06T13:35:54.563828Z",
     "end_time": "2023-04-06T13:35:54.610753Z"
    }
   }
  },
  {
   "cell_type": "code",
   "execution_count": 10,
   "outputs": [],
   "source": [
    "#------------------------------------------------------------------------------\n",
    "#   FullyConnected class\n",
    "#------------------------------------------------------------------------------\n",
    "class FullyConnected(Module):\n",
    "    def __init__(self, w, b, s_w, s_i, s_o, z_i, z_o):\n",
    "        super(FullyConnected, self).__init__()\n",
    "        self.W = w\n",
    "        self.b = b\n",
    "        self.z_i = z_i\n",
    "        self.z_o = z_o\n",
    "        self.m = s_i * s_w / s_o\n",
    "        self.s_b = s_i * s_w\n",
    "\n",
    "    def forward(self, input: np.ndarray) -> np.ndarray:\n",
    "\n",
    "        output_int8 = np.zeros((input.shape[0], self.W.shape[1]), dtype=np.int8)\n",
    "        output = np.zeros((input.shape[0], self.W.shape[1]), dtype=np.int32)\n",
    "        a2 = np.zeros((self.W.shape[1]), dtype=np.int32)\n",
    "\n",
    "        for i in range(input.shape[0]):\n",
    "            for k in range(self.W.shape[1]):\n",
    "                for j in range(input.shape[1]):\n",
    "                    a2[k] += np.int32(self.W[j][k])\n",
    "                    output[i][k] += np.int32(input[i][j]) * np.int32(self.W[j][k])\n",
    "\n",
    "                    # print(f'i = {input[i][j]}, W = {self.W[j][k]}, output_32 = {output[i][k]}, a2={a2[k]}')\n",
    "\n",
    "                # print('-----------------')\n",
    "                # print(f'z_o = {self.z_o}, m = {self.m}, o = {output[i][k]}, b = {self.b[k]}, a2 = {a2[k]}, z_i = {self.z_i}, zia2: {-self.z_i*a2[k]}')\n",
    "                # print(f'output_before_saturate_cast = ',np.int32(self.z_o) + self.m * (-(np.int32(self.z_i)*a2[k]) + output[i][k] + self.b[k]))\n",
    "\n",
    "                output_int8[i][k] = tf.dtypes.saturate_cast(np.round(np.int32(self.z_o) + self.m * (-(np.int32(self.z_i)*a2[k]) + output[i][k] + self.b[k])), tf.int8)\n",
    "\n",
    "                # print('output_int8: ', output_int8[i][k])\n",
    "                # print('-----------------')\n",
    "\n",
    "        # print(f'input: {input} \\noutput: {output_int8}\\n-----------------\\n-----------------')\n",
    "        # print(f'input: {input.dtype} \\noutput2: {output_int8.dtype}\\n-----------------')\n",
    "\n",
    "        return output_int8\n",
    "\n",
    "#------------------------------------------------------------------------------\n",
    "#   Quantize class\n",
    "#------------------------------------------------------------------------------\n",
    "class Quantize(Module):\n",
    "    def __init__(self, s, z_i, z_o, d_type):\n",
    "        super(Quantize, self).__init__()\n",
    "        self.z_i = z_i\n",
    "        self.z_o = z_o\n",
    "        self.s = s\n",
    "        self.d_type = d_type\n",
    "\n",
    "        # print(f'Quantize: z_i: {self.z_i} z_o: {self.z_o} s: {self.s} d_type: {self.d_type}')\n",
    "\n",
    "    def forward(self, input: np.ndarray) -> np.ndarray:\n",
    "        # converts from int8 to uint8 and vice versa\n",
    "        if self.d_type is np.int8:\n",
    "            arr_q = (input + 128).astype(np.uint8)\n",
    "        elif self.d_type is np.uint8:\n",
    "            arr_q = (input - 128).astype(np.int8)\n",
    "        else:\n",
    "            raise ValueError(f'input type is not supported: {input.dtype}')\n",
    "\n",
    "        # print(f'input: {input} \\noutput: {arr_q}\\n-----------------\\n-----------------')\n",
    "        # print(f'input: {input.dtype} \\noutput: {arr_q.dtype}\\n-----------------')\n",
    "\n",
    "        return arr_q\n"
   ],
   "metadata": {
    "collapsed": false,
    "ExecuteTime": {
     "start_time": "2023-04-06T13:35:54.579472Z",
     "end_time": "2023-04-06T13:35:54.610753Z"
    }
   }
  },
  {
   "cell_type": "markdown",
   "source": [
    "# Create model"
   ],
   "metadata": {
    "collapsed": false
   }
  },
  {
   "cell_type": "code",
   "execution_count": 11,
   "outputs": [],
   "source": [
    "model = Module()\n",
    "model.add_module(Quantize(quan_s1, quan_z_i1, quan_z_o1, np.uint8), 'q1')\n",
    "model.add_module(FullyConnected(w1, b1, s_w1, s_i1, s_o1, z_i1, z_o1), 'l1')\n",
    "model.add_module(FullyConnected(w2, b2, s_w2, s_i2, s_o2, z_i2, z_o2), 'l2')\n",
    "model.add_module(Quantize(quan_s2, quan_z_i2, quan_z_o2, np.int8), 'q2')"
   ],
   "metadata": {
    "collapsed": false,
    "ExecuteTime": {
     "start_time": "2023-04-06T13:35:54.595096Z",
     "end_time": "2023-04-06T13:35:54.610753Z"
    }
   }
  },
  {
   "cell_type": "code",
   "execution_count": 12,
   "outputs": [
    {
     "name": "stdout",
     "output_type": "stream",
     "text": [
      "1: [[214 143]] \n",
      "-------------\n",
      "-------------\n"
     ]
    }
   ],
   "source": [
    "print(f\"1: {model.forward(input1)} \\n-------------\\n-------------\" )\n",
    "# print(f\"2: {model.forward(input2)} \\n-------------\\n-------------\" )\n",
    "# print(f\"3: {model.forward(input3)} \\n-------------\\n-------------\" )\n",
    "# print(f\"4: {model.forward(input4)} \\n-------------\\n-------------\" )\n",
    "# print(f\"5: {model.forward(input5)} \\n-------------\\n-------------\" )"
   ],
   "metadata": {
    "collapsed": false,
    "ExecuteTime": {
     "start_time": "2023-04-06T13:35:54.610753Z",
     "end_time": "2023-04-06T13:35:54.630790Z"
    }
   }
  },
  {
   "cell_type": "markdown",
   "source": [
    "# Compare with TFLite"
   ],
   "metadata": {
    "collapsed": false
   }
  },
  {
   "cell_type": "code",
   "execution_count": 16,
   "outputs": [],
   "source": [
    "# Initialize the interpreter\n",
    "import pathlib\n",
    "\n",
    "tflite_file = pathlib.Path('.\\models\\ezmode_tflite_model_quant.tflite')\n",
    "interpreter = tf.lite.Interpreter(model_path=str(tflite_file))\n",
    "interpreter.allocate_tensors()\n",
    "\n",
    "def run_tflite_model(interpreter, input):\n",
    "    global test_images\n",
    "\n",
    "    input_details = interpreter.get_input_details()[0]\n",
    "    output_details = interpreter.get_output_details()[0]\n",
    "\n",
    "    interpreter.set_tensor(input_details[\"index\"], input)\n",
    "    interpreter.invoke()\n",
    "    output = interpreter.get_tensor(output_details[\"index\"])\n",
    "\n",
    "    return output"
   ],
   "metadata": {
    "collapsed": false,
    "ExecuteTime": {
     "start_time": "2023-04-06T13:39:12.358285Z",
     "end_time": "2023-04-06T13:39:12.368762Z"
    }
   }
  },
  {
   "cell_type": "code",
   "execution_count": null,
   "outputs": [],
   "source": [
    "r = 256\n",
    "# dif = np.zeros((r,1), dtype=np.int64)\n",
    "#\n",
    "# for i in range(r):\n",
    "#     for j in range(r):\n",
    "#         for k in range(r):\n",
    "#             input = np.array( [[i, j, k]], dtype=np.uint8)\n",
    "#             model_m = model.forward(input)\n",
    "#             model_tf = run_tflite_model(interpreter, input)\n",
    "#\n",
    "#             dif[i] += np.abs(np.int64(model_m[0][0]) - np.int64(model_tf[0][0]))\n",
    "#             dif[i] += np.abs(np.int64(model_m[0][1]) - np.int64(model_tf[0][1]))\n",
    "#\n",
    "#\n",
    "#     dif[i] = dif[i] / (r*r)\n",
    "#\n",
    "# np.save('array_dif_rounding_100acc.npy', dif)\n",
    "#\n",
    "# mistake_output = np.sum(dif) / r\n",
    "# mistake_value = mistake_output / 2\n",
    "#\n",
    "# print(f'Mistake in output: {mistake_output}')\n",
    "# print(f'Mistake in value: {mistake_value}')"
   ],
   "metadata": {
    "collapsed": false,
    "ExecuteTime": {
     "start_time": "2023-04-03T18:47:59.447938Z",
     "end_time": "2023-04-03T23:15:21.629280Z"
    }
   }
  },
  {
   "cell_type": "code",
   "execution_count": null,
   "outputs": [],
   "source": [
    "dif = np.load('array_dif.npy')\n",
    "mistake_output = np.sum(dif) / r\n",
    "mistake_value = mistake_output / 2\n",
    "\n",
    "print(f'Mistake in output: {mistake_output}')\n",
    "print(f'Mistake in value: {mistake_value}')"
   ],
   "metadata": {
    "collapsed": false,
    "ExecuteTime": {
     "start_time": "2023-04-03T23:15:21.630261Z",
     "end_time": "2023-04-03T23:15:21.686214Z"
    }
   }
  },
  {
   "cell_type": "code",
   "execution_count": null,
   "outputs": [],
   "source": [
    "m1 = 0.005783735308796167\n",
    "m2 = 0.011293286457657814\n",
    "\n",
    "for m in [m1, m2]:\n",
    "    for i in range (32):\n",
    "        m0 = 2 ** (i) * m\n",
    "        if 0.5 <= m0 < 1:\n",
    "            print(f\"i: {i}\\nm0: {m0}\")\n",
    "            m_with_m0 = 2 ** (-i) * m0\n",
    "            print(f'{m_with_m0} m_with_m0')\n",
    "            print(f'{m} m')\n",
    "            print('-----------------')\n",
    "            break\n"
   ],
   "metadata": {
    "collapsed": false,
    "ExecuteTime": {
     "start_time": "2023-04-03T23:15:21.649164Z",
     "end_time": "2023-04-03T23:15:21.691280Z"
    }
   }
  },
  {
   "cell_type": "code",
   "execution_count": null,
   "outputs": [],
   "source": [],
   "metadata": {
    "collapsed": false,
    "ExecuteTime": {
     "start_time": "2023-04-03T23:15:21.674077Z",
     "end_time": "2023-04-03T23:15:21.692280Z"
    }
   }
  }
 ],
 "metadata": {
  "kernelspec": {
   "display_name": "Python 3",
   "language": "python",
   "name": "python3"
  },
  "language_info": {
   "codemirror_mode": {
    "name": "ipython",
    "version": 2
   },
   "file_extension": ".py",
   "mimetype": "text/x-python",
   "name": "python",
   "nbconvert_exporter": "python",
   "pygments_lexer": "ipython2",
   "version": "2.7.6"
  }
 },
 "nbformat": 4,
 "nbformat_minor": 0
}
